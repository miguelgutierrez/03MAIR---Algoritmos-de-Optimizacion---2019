{
  "nbformat": 4,
  "nbformat_minor": 0,
  "metadata": {
    "colab": {
      "name": "Miguel Gutierrez - Seminario Algoritmos.ipynb",
      "provenance": [],
      "collapsed_sections": [],
      "include_colab_link": true
    },
    "kernelspec": {
      "name": "python3",
      "display_name": "Python 3"
    }
  },
  "cells": [
    {
      "cell_type": "markdown",
      "metadata": {
        "id": "view-in-github",
        "colab_type": "text"
      },
      "source": [
        "<a href=\"https://colab.research.google.com/github/miguelgutierrez/03MAIR---Algoritmos-de-Optimizacion---2019/blob/master/Miguel_Gutierrez_Seminario_Algoritmos.ipynb\" target=\"_parent\"><img src=\"https://colab.research.google.com/assets/colab-badge.svg\" alt=\"Open In Colab\"/></a>"
      ]
    },
    {
      "cell_type": "markdown",
      "metadata": {
        "id": "hVbXYX-RfPWh",
        "colab_type": "text"
      },
      "source": [
        "# Algoritmos de optimización - Seminario<br>\n",
        "Nombre y Apellidos:   **Miguel Gutiérrez**<br>\n",
        "Url: https://colab.research.google.com/drive/1Kfe0xTO1kuQHZRYj2y89OKpqoj4Ol7E_<br>\n",
        "\n",
        "Problema: **Sesiones de doblaje** <br>\n",
        "\n",
        "\n",
        "Se precisa coordinar el doblaje de una película. Los actores del doblaje deben coincidir en las tomas en las que sus personajes aparecen juntos en las diferentes tomas. Los actores de doblaje cobran todos la misma cantidad por cada día que deben desplazarse hasta el estudio de grabación independientemente del número de tomas que se graben. No es posible grabar más de 6 tomas por día. El objetivo es planificar las sesiones por día de manera que el gasto por los servicios de los actores de doblaje sea el menor posible. Los datos son:\n",
        "\n",
        "\n",
        "*   Número de actores: **10**\n",
        "*   Número de tomas: **30**\n",
        "*   Actores/Tomas: https://bit.ly/36D8IuK  \n",
        "(1 indica que el actor participa en la toma 0 en caso contrario)\n",
        "\n",
        "\n",
        "(*) La respuesta es obligatoria\n",
        "\n",
        "\n",
        "\n",
        "\n",
        "\n",
        "                                        "
      ]
    },
    {
      "cell_type": "markdown",
      "metadata": {
        "id": "3_-exlrTgLd-",
        "colab_type": "text"
      },
      "source": [
        "( * ) ***¿Cuantas posibilidades hay sin tener en cuenta las restricciones?***<br>\n",
        "\n",
        "***¿Cuantas posibilidades hay teniendo en cuenta todas las restricciones.*** \n",
        "\n",
        "\n"
      ]
    },
    {
      "cell_type": "markdown",
      "metadata": {
        "id": "WfCUqJyKhPcw",
        "colab_type": "text"
      },
      "source": [
        "**Respuesta**<br>\n",
        "**Sin restricciones**\n",
        "Si quito la restricción de 6 tomas/día, significa que puedo hacer todas las tomas el mismo día. <br>Por lo tanto, habría 1 solución: realizar todas las tomas el mismo día. <br>Coste: 10 actores x coste del actor de doblaje.\n",
        "\n",
        "**Con restricciones**<br>\n",
        "(n fact r) * (n-r fact r) * ... (5 veces) <br>\n",
        "(30 fact 6) * (24 fact 6) * (18 fact 6) * (12 fact 6) * (6 fact 6)<br>\n",
        "\n",
        "Total posibles soluciones:  1370874167589326400"
      ]
    },
    {
      "cell_type": "markdown",
      "metadata": {
        "id": "dzynfVJahHoY",
        "colab_type": "text"
      },
      "source": [
        "**Modelo para el espacio de soluciones**<br>\n",
        "( * ) ***¿Cual es la estructura de datos que mejor se adapta al problema? Argumentalo.(Es posible que hayas elegido una al principio y veas la necesidad de cambiar, arguméntalo)***\n"
      ]
    },
    {
      "cell_type": "markdown",
      "metadata": {
        "id": "xFIJrOwKi2Ti",
        "colab_type": "text"
      },
      "source": [
        "**Respuesta**\n",
        "\n",
        "**tomas**:<br>\n",
        " \n",
        " Matriz con la información de las tomas y actores que intervienen (30 x 10):\n",
        "\n",
        "*   Filas son las tomas: fila 0 -> Toma 1\n",
        "*   Columnas: Columna 0 -> Actor 1<br>\n",
        "    valor: 0/1 no trabaja/trabaja el actor en esa toma\n",
        "\n",
        "\n",
        "**solucion**:<br>\n",
        " Lista de días, donde cada elemento es un set de tomas.\n",
        " Es una lista porque tiene que ser ordenada, representando:<br>\n",
        " \n",
        "*   elemento 0 -> día 1\n",
        "*   elemento 1 -> día 2\n",
        "*   elemento n-1 -> día n\n",
        "\n",
        "Cada elemento es un **set** de las tomas del día, ya que no necesitamos que sean ordenadas y además debe ser un conjunto de elementos (las tomas no pueden estar repetidas)\n",
        "\n",
        "P.e.: [{1, 2, 3, 4, 5, 6}, {7, 8, 9, 10, 11, 12}, {13, 14, 15, 16, 17, 18}, {19, 20, 21, 22, 23, 24}, {25, 26, 27, 28, 29, 30}]\n",
        "\n",
        "\n",
        "**tomas pendientes**:<br>\n",
        "  Set de tomas (no necesito que estén ordenadas y sí sean elementos únicos), donde voy quitando las que se utilizan en cada día, para gestionar las tomas que se van a realizar el día siguiente\n",
        "\n",
        "Inicialmente pensé en una matriz pero lo descarté porque no representaba los elementos y acciones que necesitaba para resolver el problema\n",
        "\n",
        "**árbol/nodo raiz**:\n",
        "  * lista de nodos y hojas\n",
        "  * *hoja*: día (set de las tomas realizadas ese día)\n",
        "  * *nodo*: lista de nodos y hojas\n",
        "\n"
      ]
    },
    {
      "cell_type": "markdown",
      "metadata": {
        "id": "7Z9U2W7bi-XS",
        "colab_type": "text"
      },
      "source": [
        "**Según el modelo para el espacio de soluciones**<br>\n",
        "(*)¿Cual es la función objetivo?\n",
        "\n",
        "(*)¿Es un problema de maximización o minimización?"
      ]
    },
    {
      "cell_type": "markdown",
      "metadata": {
        "id": "hBalWLM7j1_d",
        "colab_type": "text"
      },
      "source": [
        "**Respuesta**<br>\n",
        "Mínimo de la suma del coste de las tomas de cada día\n",
        "\n",
        "Es un problema de minimización"
      ]
    },
    {
      "cell_type": "markdown",
      "metadata": {
        "id": "rlnTYgY1j6I2",
        "colab_type": "text"
      },
      "source": [
        "Diseña un algoritmo para resolver el problema por fuerza bruta"
      ]
    },
    {
      "cell_type": "markdown",
      "metadata": {
        "id": "70rDgxYXkC8r",
        "colab_type": "text"
      },
      "source": [
        "**Fuerza Bruta**"
      ]
    },
    {
      "cell_type": "code",
      "metadata": {
        "id": "CJb5sQ0qkENy",
        "colab_type": "code",
        "colab": {}
      },
      "source": [
        "#Valores y funciones generales\n",
        "TOMAS = [\n",
        "[1,1,1,1,1,0,0,0,0,0],\n",
        "[0,0,1,1,1,0,0,0,0,0],\n",
        "[0,1,0,0,1,0,1,0,0,0],\n",
        "[1,1,0,0,0,0,1,1,0,0],\n",
        "[0,1,0,1,0,0,0,1,0,0],\n",
        "[1,1,0,1,1,0,0,0,0,0],\n",
        "[1,1,0,1,1,0,0,0,0,0],\n",
        "[1,1,0,0,0,1,0,0,0,0],\n",
        "[1,1,0,1,0,0,0,0,0,0],\n",
        "[1,1,0,0,0,1,0,0,1,0],\n",
        "[1,1,1,0,1,0,0,1,0,0],\n",
        "[1,1,1,1,0,1,0,0,0,0],\n",
        "[1,0,0,1,1,0,0,0,0,0],\n",
        "[1,0,1,0,0,1,0,0,0,0],\n",
        "[1,1,0,0,0,0,1,0,0,0],\n",
        "[0,0,0,1,0,0,0,0,0,1],\n",
        "[1,0,1,0,0,0,0,0,0,0],\n",
        "[0,0,1,0,0,1,0,0,0,0],\n",
        "[1,0,1,0,0,0,0,0,0,0],\n",
        "[1,0,1,1,1,0,0,0,0,0],\n",
        "[0,0,0,0,0,1,0,1,0,0],\n",
        "[1,1,1,1,0,0,0,0,0,0],\n",
        "[1,0,1,0,0,0,0,0,0,0],\n",
        "[0,0,1,0,0,1,0,0,0,0],\n",
        "[1,1,0,1,0,0,0,0,0,1],\n",
        "[1,0,1,0,1,0,0,0,1,0],\n",
        "[0,0,0,1,1,0,0,0,0,0],\n",
        "[1,0,0,1,0,0,0,0,0,0],\n",
        "[1,0,0,0,1,1,0,0,0,0],\n",
        "[1,0,0,1,0,0,0,0,0,0]\n",
        "]\n",
        "max_tomas_dia = 6"
      ],
      "execution_count": 0,
      "outputs": []
    },
    {
      "cell_type": "code",
      "metadata": {
        "id": "XJTy8rOIVWa7",
        "colab_type": "code",
        "colab": {}
      },
      "source": [
        "#funciones generales\n",
        "#toma: fila de valores 0,1 que indican si el actor en dicha posición trabaja en dicha toma\n",
        "#actores de una toma: devuelve una lista con los actores 1,...,10\n",
        "def actores_de_toma(toma):\n",
        "  actores = []\n",
        "  for index in range(len(toma)):\n",
        "    if toma[index] == 1:\n",
        "      actores.append(index+1)\n",
        "  return actores\n",
        "#solucion: tupla de sets de tomas\n",
        "#devuelve el coste de la solución\n",
        "def coste_de_solucion(TOMAS,solucion,coste_actor):\n",
        "  coste=0\n",
        "  for tomas_dia in solucion:\n",
        "    coste = coste + coste_de_tomas_mismo_dia(TOMAS,tomas_dia,coste_actor)\n",
        "    #print(tomas_dia)\n",
        "  return coste\n",
        "#tomas_dia: set de las tomas de un día (1,...,n)\n",
        "#se forma un set de actores con las tomas. El total será el coste\n",
        "#devuelve el coste: en este caso suponemos que todos los actores cobran lo mismo\n",
        "def coste_de_tomas_mismo_dia(TOMAS,tomas_dia,coste_actor):\n",
        "  actores = set({})\n",
        "  for toma in tomas_dia:\n",
        "    actores.update(actores_de_toma(TOMAS[toma-1]))    \n",
        "  return len(actores) * coste_actor\n",
        "\n",
        "#TEST\n",
        "#print(coste_de_tomas_mismo_dia(TOMAS,{1,2,3,4,5,6},1))\n",
        "#solucion = list()\n",
        "#solucion.append({1,2,3,4,5,6})\n",
        "#solucion.append({8, 10, 12, 13, 15, 17})\n",
        "#solucion.append({7, 9, 11, 14, 16, 18})\n",
        "#print(coste_de_solucion(TOMAS,solucion,1))"
      ],
      "execution_count": 0,
      "outputs": []
    },
    {
      "cell_type": "code",
      "metadata": {
        "id": "rhQ-Q9h2VZRi",
        "colab_type": "code",
        "colab": {
          "base_uri": "https://localhost:8080/",
          "height": 579
        },
        "outputId": "a8f00bd7-d7e6-43d5-d0ad-8f58bfe428bc"
      },
      "source": [
        "import itertools\n",
        "from itertools import permutations\n",
        "import math\n",
        "\n",
        "def print_complejidad(num_tomas,max_tomas_dia):\n",
        "    count = 1\n",
        "    total_dias = math.ceil(num_tomas/max_tomas_dia)\n",
        "    for dia in range(total_dias):\n",
        "      count = count * len(list(itertools.combinations(range(num_tomas-dia*max_tomas_dia),max_tomas_dia)))\n",
        "    print(\"Total posibles soluciones: \", count)\n",
        "\n",
        "#cada día hacemos 6 tomas que es lo máximo que nos permiten\n",
        "#día 0: recorremos todas las combinaciones de (total tomas, max por día) -> (T,MaxD)\n",
        "#día 1: recorremos todas las combinaciones de (T-MaxD, MaxD)\n",
        "#día d: si T>MaxD*d, recorremos todas las combinaciones de (T-MaxD*d, MaxD)\n",
        "#posibles soluciones es O(n!) siendo n las tomas ya que son: (combinaciones (n 6): día1)*(combinaciones (n-6,6): día2)*(combinaciones (n-2*6, 6) día3)\n",
        "#mejor_solucion: tupla de n días, donde cada valor es un set de tomas. El valor d de la tupla representa el set de tomas realizado el día d\n",
        "\n",
        "#variables globales\n",
        "mejor_solucion = list()\n",
        "coste_mejor_solucion = 10e10\n",
        "\n",
        "def fuerza_bruta(TOMAS):\n",
        "  num_tomas = len(TOMAS)\n",
        "  num_actores = len(TOMAS[0])\n",
        "  print(\"Número tomas: \", str(num_tomas), \" Número de actores:\", str(num_actores))\n",
        "  \n",
        "  tomas_totales = set(range(1,len(TOMAS)+1)) \n",
        "\n",
        "  print_complejidad(num_tomas,max_tomas_dia) \n",
        "\n",
        "  solucion_parcial = list()\n",
        "  tomas_pendientes = set(tomas_totales)\n",
        "  \n",
        "  calcula_solucion_parcial(tomas_totales,tomas_pendientes,solucion_parcial,max_tomas_dia)\n",
        "\n",
        "  print(\"Mejor solucion:\", mejor_solucion)\n",
        "  print(\"coste mejor solucion:\", coste_de_solucion(TOMAS,mejor_solucion,1))\n",
        "\n",
        "#función recursiva, calcula soluciones para los días: d1,.., dn\n",
        "def calcula_solucion_parcial(tomas_totales, tomas_pendientes, solucion_parcial, max_tomas_dia):\n",
        "  global mejor_solucion, coste_mejor_solucion\n",
        "\n",
        "  for s in list(itertools.combinations(tomas_pendientes,max_tomas_dia)):\n",
        "    tomas_pendientes1 = set(tomas_pendientes)\n",
        "    solucion_parcial1 = list(solucion_parcial)\n",
        "    solucion_parcial1.append(set(s))\n",
        "\n",
        "    for parcial in solucion_parcial1:\n",
        "      #print(\"parcial:\",parcial)\n",
        "      tomas_pendientes2 = tomas_pendientes - set(parcial)\n",
        "\n",
        "    tomas_pendientes2 = tomas_pendientes1 - set(s)\n",
        "    #print(\"tomas_pendientes2:\",tomas_pendientes2)\n",
        "\n",
        "    if len(tomas_pendientes2) == 0:\n",
        "      coste = coste_de_solucion(TOMAS,solucion_parcial1,1)\n",
        "      #print(\"coste:\", coste)\n",
        "      if (coste < coste_mejor_solucion):\n",
        "          mejor_solucion = solucion_parcial1 \n",
        "          coste_mejor_solucion = coste         \n",
        "          print(\"Mejor solucion parcial:\", mejor_solucion)\n",
        "          print(\"coste mejor solucion parcial:\", coste_mejor_solucion)\n",
        "    else:\n",
        "      calcula_solucion_parcial(tomas_totales,tomas_pendientes2,solucion_parcial1,max_tomas_dia)\n",
        "\n",
        "fuerza_bruta(TOMAS)"
      ],
      "execution_count": 3,
      "outputs": [
        {
          "output_type": "stream",
          "text": [
            "Número tomas:  30  Número de actores: 10\n",
            "Total posibles soluciones:  1370874167589326400\n",
            "Mejor solucion parcial: [{1, 2, 3, 4, 5, 6}, {7, 8, 9, 10, 11, 12}, {13, 14, 15, 16, 17, 18}, {19, 20, 21, 22, 23, 24}, {25, 26, 27, 28, 29, 30}]\n",
            "coste mejor solucion parcial: 38\n",
            "Mejor solucion parcial: [{1, 2, 3, 4, 5, 6}, {7, 8, 9, 10, 11, 12}, {13, 14, 15, 16, 17, 18}, {19, 20, 21, 22, 23, 25}, {24, 26, 27, 28, 29, 30}]\n",
            "coste mejor solucion parcial: 37\n",
            "Mejor solucion parcial: [{1, 2, 3, 4, 5, 6}, {7, 8, 9, 10, 11, 12}, {13, 14, 15, 16, 17, 18}, {19, 20, 21, 23, 24, 29}, {22, 25, 26, 27, 28, 30}]\n",
            "coste mejor solucion parcial: 36\n",
            "Mejor solucion parcial: [{1, 2, 3, 4, 5, 6}, {7, 8, 9, 10, 11, 12}, {13, 14, 15, 16, 17, 18}, {19, 21, 23, 24, 26, 29}, {20, 22, 25, 27, 28, 30}]\n",
            "coste mejor solucion parcial: 35\n",
            "Mejor solucion parcial: [{1, 2, 3, 4, 5, 6}, {7, 8, 9, 10, 11, 12}, {13, 14, 15, 16, 17, 25}, {18, 19, 21, 23, 24, 29}, {20, 22, 26, 27, 28, 30}]\n",
            "coste mejor solucion parcial: 34\n",
            "Mejor solucion parcial: [{1, 2, 3, 4, 5, 6}, {7, 8, 9, 10, 11, 12}, {13, 14, 15, 16, 22, 25}, {17, 18, 19, 21, 23, 24}, {20, 26, 27, 28, 29, 30}]\n",
            "coste mejor solucion parcial: 33\n"
          ],
          "name": "stdout"
        },
        {
          "output_type": "error",
          "ename": "KeyboardInterrupt",
          "evalue": "ignored",
          "traceback": [
            "\u001b[0;31m---------------------------------------------------------------------------\u001b[0m",
            "\u001b[0;31mKeyboardInterrupt\u001b[0m                         Traceback (most recent call last)",
            "\u001b[0;32m<ipython-input-3-a98d09092b7b>\u001b[0m in \u001b[0;36m<module>\u001b[0;34m()\u001b[0m\n\u001b[1;32m     65\u001b[0m       \u001b[0mcalcula_solucion_parcial\u001b[0m\u001b[0;34m(\u001b[0m\u001b[0mtomas_totales\u001b[0m\u001b[0;34m,\u001b[0m\u001b[0mtomas_pendientes2\u001b[0m\u001b[0;34m,\u001b[0m\u001b[0msolucion_parcial1\u001b[0m\u001b[0;34m,\u001b[0m\u001b[0mmax_tomas_dia\u001b[0m\u001b[0;34m)\u001b[0m\u001b[0;34m\u001b[0m\u001b[0;34m\u001b[0m\u001b[0m\n\u001b[1;32m     66\u001b[0m \u001b[0;34m\u001b[0m\u001b[0m\n\u001b[0;32m---> 67\u001b[0;31m \u001b[0mfuerza_bruta\u001b[0m\u001b[0;34m(\u001b[0m\u001b[0mTOMAS\u001b[0m\u001b[0;34m)\u001b[0m\u001b[0;34m\u001b[0m\u001b[0;34m\u001b[0m\u001b[0m\n\u001b[0m",
            "\u001b[0;32m<ipython-input-3-a98d09092b7b>\u001b[0m in \u001b[0;36mfuerza_bruta\u001b[0;34m(TOMAS)\u001b[0m\n\u001b[1;32m     33\u001b[0m   \u001b[0mtomas_pendientes\u001b[0m \u001b[0;34m=\u001b[0m \u001b[0mset\u001b[0m\u001b[0;34m(\u001b[0m\u001b[0mtomas_totales\u001b[0m\u001b[0;34m)\u001b[0m\u001b[0;34m\u001b[0m\u001b[0;34m\u001b[0m\u001b[0m\n\u001b[1;32m     34\u001b[0m \u001b[0;34m\u001b[0m\u001b[0m\n\u001b[0;32m---> 35\u001b[0;31m   \u001b[0mcalcula_solucion_parcial\u001b[0m\u001b[0;34m(\u001b[0m\u001b[0mtomas_totales\u001b[0m\u001b[0;34m,\u001b[0m\u001b[0mtomas_pendientes\u001b[0m\u001b[0;34m,\u001b[0m\u001b[0msolucion_parcial\u001b[0m\u001b[0;34m,\u001b[0m\u001b[0mmax_tomas_dia\u001b[0m\u001b[0;34m)\u001b[0m\u001b[0;34m\u001b[0m\u001b[0;34m\u001b[0m\u001b[0m\n\u001b[0m\u001b[1;32m     36\u001b[0m \u001b[0;34m\u001b[0m\u001b[0m\n\u001b[1;32m     37\u001b[0m   \u001b[0mprint\u001b[0m\u001b[0;34m(\u001b[0m\u001b[0;34m\"Mejor solucion:\"\u001b[0m\u001b[0;34m,\u001b[0m \u001b[0mmejor_solucion\u001b[0m\u001b[0;34m)\u001b[0m\u001b[0;34m\u001b[0m\u001b[0;34m\u001b[0m\u001b[0m\n",
            "\u001b[0;32m<ipython-input-3-a98d09092b7b>\u001b[0m in \u001b[0;36mcalcula_solucion_parcial\u001b[0;34m(tomas_totales, tomas_pendientes, solucion_parcial, max_tomas_dia)\u001b[0m\n\u001b[1;32m     63\u001b[0m           \u001b[0mprint\u001b[0m\u001b[0;34m(\u001b[0m\u001b[0;34m\"coste mejor solucion parcial:\"\u001b[0m\u001b[0;34m,\u001b[0m \u001b[0mcoste_mejor_solucion\u001b[0m\u001b[0;34m)\u001b[0m\u001b[0;34m\u001b[0m\u001b[0;34m\u001b[0m\u001b[0m\n\u001b[1;32m     64\u001b[0m     \u001b[0;32melse\u001b[0m\u001b[0;34m:\u001b[0m\u001b[0;34m\u001b[0m\u001b[0;34m\u001b[0m\u001b[0m\n\u001b[0;32m---> 65\u001b[0;31m       \u001b[0mcalcula_solucion_parcial\u001b[0m\u001b[0;34m(\u001b[0m\u001b[0mtomas_totales\u001b[0m\u001b[0;34m,\u001b[0m\u001b[0mtomas_pendientes2\u001b[0m\u001b[0;34m,\u001b[0m\u001b[0msolucion_parcial1\u001b[0m\u001b[0;34m,\u001b[0m\u001b[0mmax_tomas_dia\u001b[0m\u001b[0;34m)\u001b[0m\u001b[0;34m\u001b[0m\u001b[0;34m\u001b[0m\u001b[0m\n\u001b[0m\u001b[1;32m     66\u001b[0m \u001b[0;34m\u001b[0m\u001b[0m\n\u001b[1;32m     67\u001b[0m \u001b[0mfuerza_bruta\u001b[0m\u001b[0;34m(\u001b[0m\u001b[0mTOMAS\u001b[0m\u001b[0;34m)\u001b[0m\u001b[0;34m\u001b[0m\u001b[0;34m\u001b[0m\u001b[0m\n",
            "\u001b[0;32m<ipython-input-3-a98d09092b7b>\u001b[0m in \u001b[0;36mcalcula_solucion_parcial\u001b[0;34m(tomas_totales, tomas_pendientes, solucion_parcial, max_tomas_dia)\u001b[0m\n\u001b[1;32m     63\u001b[0m           \u001b[0mprint\u001b[0m\u001b[0;34m(\u001b[0m\u001b[0;34m\"coste mejor solucion parcial:\"\u001b[0m\u001b[0;34m,\u001b[0m \u001b[0mcoste_mejor_solucion\u001b[0m\u001b[0;34m)\u001b[0m\u001b[0;34m\u001b[0m\u001b[0;34m\u001b[0m\u001b[0m\n\u001b[1;32m     64\u001b[0m     \u001b[0;32melse\u001b[0m\u001b[0;34m:\u001b[0m\u001b[0;34m\u001b[0m\u001b[0;34m\u001b[0m\u001b[0m\n\u001b[0;32m---> 65\u001b[0;31m       \u001b[0mcalcula_solucion_parcial\u001b[0m\u001b[0;34m(\u001b[0m\u001b[0mtomas_totales\u001b[0m\u001b[0;34m,\u001b[0m\u001b[0mtomas_pendientes2\u001b[0m\u001b[0;34m,\u001b[0m\u001b[0msolucion_parcial1\u001b[0m\u001b[0;34m,\u001b[0m\u001b[0mmax_tomas_dia\u001b[0m\u001b[0;34m)\u001b[0m\u001b[0;34m\u001b[0m\u001b[0;34m\u001b[0m\u001b[0m\n\u001b[0m\u001b[1;32m     66\u001b[0m \u001b[0;34m\u001b[0m\u001b[0m\n\u001b[1;32m     67\u001b[0m \u001b[0mfuerza_bruta\u001b[0m\u001b[0;34m(\u001b[0m\u001b[0mTOMAS\u001b[0m\u001b[0;34m)\u001b[0m\u001b[0;34m\u001b[0m\u001b[0;34m\u001b[0m\u001b[0m\n",
            "\u001b[0;32m<ipython-input-3-a98d09092b7b>\u001b[0m in \u001b[0;36mcalcula_solucion_parcial\u001b[0;34m(tomas_totales, tomas_pendientes, solucion_parcial, max_tomas_dia)\u001b[0m\n\u001b[1;32m     63\u001b[0m           \u001b[0mprint\u001b[0m\u001b[0;34m(\u001b[0m\u001b[0;34m\"coste mejor solucion parcial:\"\u001b[0m\u001b[0;34m,\u001b[0m \u001b[0mcoste_mejor_solucion\u001b[0m\u001b[0;34m)\u001b[0m\u001b[0;34m\u001b[0m\u001b[0;34m\u001b[0m\u001b[0m\n\u001b[1;32m     64\u001b[0m     \u001b[0;32melse\u001b[0m\u001b[0;34m:\u001b[0m\u001b[0;34m\u001b[0m\u001b[0;34m\u001b[0m\u001b[0m\n\u001b[0;32m---> 65\u001b[0;31m       \u001b[0mcalcula_solucion_parcial\u001b[0m\u001b[0;34m(\u001b[0m\u001b[0mtomas_totales\u001b[0m\u001b[0;34m,\u001b[0m\u001b[0mtomas_pendientes2\u001b[0m\u001b[0;34m,\u001b[0m\u001b[0msolucion_parcial1\u001b[0m\u001b[0;34m,\u001b[0m\u001b[0mmax_tomas_dia\u001b[0m\u001b[0;34m)\u001b[0m\u001b[0;34m\u001b[0m\u001b[0;34m\u001b[0m\u001b[0m\n\u001b[0m\u001b[1;32m     66\u001b[0m \u001b[0;34m\u001b[0m\u001b[0m\n\u001b[1;32m     67\u001b[0m \u001b[0mfuerza_bruta\u001b[0m\u001b[0;34m(\u001b[0m\u001b[0mTOMAS\u001b[0m\u001b[0;34m)\u001b[0m\u001b[0;34m\u001b[0m\u001b[0;34m\u001b[0m\u001b[0m\n",
            "\u001b[0;32m<ipython-input-3-a98d09092b7b>\u001b[0m in \u001b[0;36mcalcula_solucion_parcial\u001b[0;34m(tomas_totales, tomas_pendientes, solucion_parcial, max_tomas_dia)\u001b[0m\n\u001b[1;32m     63\u001b[0m           \u001b[0mprint\u001b[0m\u001b[0;34m(\u001b[0m\u001b[0;34m\"coste mejor solucion parcial:\"\u001b[0m\u001b[0;34m,\u001b[0m \u001b[0mcoste_mejor_solucion\u001b[0m\u001b[0;34m)\u001b[0m\u001b[0;34m\u001b[0m\u001b[0;34m\u001b[0m\u001b[0m\n\u001b[1;32m     64\u001b[0m     \u001b[0;32melse\u001b[0m\u001b[0;34m:\u001b[0m\u001b[0;34m\u001b[0m\u001b[0;34m\u001b[0m\u001b[0m\n\u001b[0;32m---> 65\u001b[0;31m       \u001b[0mcalcula_solucion_parcial\u001b[0m\u001b[0;34m(\u001b[0m\u001b[0mtomas_totales\u001b[0m\u001b[0;34m,\u001b[0m\u001b[0mtomas_pendientes2\u001b[0m\u001b[0;34m,\u001b[0m\u001b[0msolucion_parcial1\u001b[0m\u001b[0;34m,\u001b[0m\u001b[0mmax_tomas_dia\u001b[0m\u001b[0;34m)\u001b[0m\u001b[0;34m\u001b[0m\u001b[0;34m\u001b[0m\u001b[0m\n\u001b[0m\u001b[1;32m     66\u001b[0m \u001b[0;34m\u001b[0m\u001b[0m\n\u001b[1;32m     67\u001b[0m \u001b[0mfuerza_bruta\u001b[0m\u001b[0;34m(\u001b[0m\u001b[0mTOMAS\u001b[0m\u001b[0;34m)\u001b[0m\u001b[0;34m\u001b[0m\u001b[0;34m\u001b[0m\u001b[0m\n",
            "\u001b[0;32m<ipython-input-3-a98d09092b7b>\u001b[0m in \u001b[0;36mcalcula_solucion_parcial\u001b[0;34m(tomas_totales, tomas_pendientes, solucion_parcial, max_tomas_dia)\u001b[0m\n\u001b[1;32m     55\u001b[0m \u001b[0;34m\u001b[0m\u001b[0m\n\u001b[1;32m     56\u001b[0m     \u001b[0;32mif\u001b[0m \u001b[0mlen\u001b[0m\u001b[0;34m(\u001b[0m\u001b[0mtomas_pendientes2\u001b[0m\u001b[0;34m)\u001b[0m \u001b[0;34m==\u001b[0m \u001b[0;36m0\u001b[0m\u001b[0;34m:\u001b[0m\u001b[0;34m\u001b[0m\u001b[0;34m\u001b[0m\u001b[0m\n\u001b[0;32m---> 57\u001b[0;31m       \u001b[0mcoste\u001b[0m \u001b[0;34m=\u001b[0m \u001b[0mcoste_de_solucion\u001b[0m\u001b[0;34m(\u001b[0m\u001b[0mTOMAS\u001b[0m\u001b[0;34m,\u001b[0m\u001b[0msolucion_parcial1\u001b[0m\u001b[0;34m,\u001b[0m\u001b[0;36m1\u001b[0m\u001b[0;34m)\u001b[0m\u001b[0;34m\u001b[0m\u001b[0;34m\u001b[0m\u001b[0m\n\u001b[0m\u001b[1;32m     58\u001b[0m       \u001b[0;31m#print(\"coste:\", coste)\u001b[0m\u001b[0;34m\u001b[0m\u001b[0;34m\u001b[0m\u001b[0;34m\u001b[0m\u001b[0m\n\u001b[1;32m     59\u001b[0m       \u001b[0;32mif\u001b[0m \u001b[0;34m(\u001b[0m\u001b[0mcoste\u001b[0m \u001b[0;34m<\u001b[0m \u001b[0mcoste_mejor_solucion\u001b[0m\u001b[0;34m)\u001b[0m\u001b[0;34m:\u001b[0m\u001b[0;34m\u001b[0m\u001b[0;34m\u001b[0m\u001b[0m\n",
            "\u001b[0;32m<ipython-input-2-b9864f24a36f>\u001b[0m in \u001b[0;36mcoste_de_solucion\u001b[0;34m(TOMAS, solucion, coste_actor)\u001b[0m\n\u001b[1;32m     10\u001b[0m   \u001b[0mcoste\u001b[0m\u001b[0;34m=\u001b[0m\u001b[0;36m0\u001b[0m\u001b[0;34m\u001b[0m\u001b[0;34m\u001b[0m\u001b[0m\n\u001b[1;32m     11\u001b[0m   \u001b[0;32mfor\u001b[0m \u001b[0mtomas_dia\u001b[0m \u001b[0;32min\u001b[0m \u001b[0msolucion\u001b[0m\u001b[0;34m:\u001b[0m\u001b[0;34m\u001b[0m\u001b[0;34m\u001b[0m\u001b[0m\n\u001b[0;32m---> 12\u001b[0;31m     \u001b[0mcoste\u001b[0m \u001b[0;34m=\u001b[0m \u001b[0mcoste\u001b[0m \u001b[0;34m+\u001b[0m \u001b[0mcoste_de_tomas_mismo_dia\u001b[0m\u001b[0;34m(\u001b[0m\u001b[0mTOMAS\u001b[0m\u001b[0;34m,\u001b[0m\u001b[0mtomas_dia\u001b[0m\u001b[0;34m,\u001b[0m\u001b[0mcoste_actor\u001b[0m\u001b[0;34m)\u001b[0m\u001b[0;34m\u001b[0m\u001b[0;34m\u001b[0m\u001b[0m\n\u001b[0m\u001b[1;32m     13\u001b[0m     \u001b[0;31m#print(tomas_dia)\u001b[0m\u001b[0;34m\u001b[0m\u001b[0;34m\u001b[0m\u001b[0;34m\u001b[0m\u001b[0m\n\u001b[1;32m     14\u001b[0m   \u001b[0;32mreturn\u001b[0m \u001b[0mcoste\u001b[0m\u001b[0;34m\u001b[0m\u001b[0;34m\u001b[0m\u001b[0m\n",
            "\u001b[0;32m<ipython-input-2-b9864f24a36f>\u001b[0m in \u001b[0;36mcoste_de_tomas_mismo_dia\u001b[0;34m(TOMAS, tomas_dia, coste_actor)\u001b[0m\n\u001b[1;32m     19\u001b[0m   \u001b[0mactores\u001b[0m \u001b[0;34m=\u001b[0m \u001b[0mset\u001b[0m\u001b[0;34m(\u001b[0m\u001b[0;34m{\u001b[0m\u001b[0;34m}\u001b[0m\u001b[0;34m)\u001b[0m\u001b[0;34m\u001b[0m\u001b[0;34m\u001b[0m\u001b[0m\n\u001b[1;32m     20\u001b[0m   \u001b[0;32mfor\u001b[0m \u001b[0mtoma\u001b[0m \u001b[0;32min\u001b[0m \u001b[0mtomas_dia\u001b[0m\u001b[0;34m:\u001b[0m\u001b[0;34m\u001b[0m\u001b[0;34m\u001b[0m\u001b[0m\n\u001b[0;32m---> 21\u001b[0;31m     \u001b[0mactores\u001b[0m\u001b[0;34m.\u001b[0m\u001b[0mupdate\u001b[0m\u001b[0;34m(\u001b[0m\u001b[0mactores_de_toma\u001b[0m\u001b[0;34m(\u001b[0m\u001b[0mTOMAS\u001b[0m\u001b[0;34m[\u001b[0m\u001b[0mtoma\u001b[0m\u001b[0;34m-\u001b[0m\u001b[0;36m1\u001b[0m\u001b[0;34m]\u001b[0m\u001b[0;34m)\u001b[0m\u001b[0;34m)\u001b[0m\u001b[0;34m\u001b[0m\u001b[0;34m\u001b[0m\u001b[0m\n\u001b[0m\u001b[1;32m     22\u001b[0m   \u001b[0;32mreturn\u001b[0m \u001b[0mlen\u001b[0m\u001b[0;34m(\u001b[0m\u001b[0mactores\u001b[0m\u001b[0;34m)\u001b[0m \u001b[0;34m*\u001b[0m \u001b[0mcoste_actor\u001b[0m\u001b[0;34m\u001b[0m\u001b[0;34m\u001b[0m\u001b[0m\n\u001b[1;32m     23\u001b[0m \u001b[0;34m\u001b[0m\u001b[0m\n",
            "\u001b[0;32m<ipython-input-2-b9864f24a36f>\u001b[0m in \u001b[0;36mactores_de_toma\u001b[0;34m(toma)\u001b[0m\n\u001b[1;32m      3\u001b[0m   \u001b[0;32mfor\u001b[0m \u001b[0mindex\u001b[0m \u001b[0;32min\u001b[0m \u001b[0mrange\u001b[0m\u001b[0;34m(\u001b[0m\u001b[0mlen\u001b[0m\u001b[0;34m(\u001b[0m\u001b[0mtoma\u001b[0m\u001b[0;34m)\u001b[0m\u001b[0;34m)\u001b[0m\u001b[0;34m:\u001b[0m\u001b[0;34m\u001b[0m\u001b[0;34m\u001b[0m\u001b[0m\n\u001b[1;32m      4\u001b[0m     \u001b[0;32mif\u001b[0m \u001b[0mtoma\u001b[0m\u001b[0;34m[\u001b[0m\u001b[0mindex\u001b[0m\u001b[0;34m]\u001b[0m \u001b[0;34m==\u001b[0m \u001b[0;36m1\u001b[0m\u001b[0;34m:\u001b[0m\u001b[0;34m\u001b[0m\u001b[0;34m\u001b[0m\u001b[0m\n\u001b[0;32m----> 5\u001b[0;31m       \u001b[0mactores\u001b[0m\u001b[0;34m.\u001b[0m\u001b[0mappend\u001b[0m\u001b[0;34m(\u001b[0m\u001b[0mindex\u001b[0m\u001b[0;34m+\u001b[0m\u001b[0;36m1\u001b[0m\u001b[0;34m)\u001b[0m\u001b[0;34m\u001b[0m\u001b[0;34m\u001b[0m\u001b[0m\n\u001b[0m\u001b[1;32m      6\u001b[0m   \u001b[0;32mreturn\u001b[0m \u001b[0mactores\u001b[0m\u001b[0;34m\u001b[0m\u001b[0;34m\u001b[0m\u001b[0m\n\u001b[1;32m      7\u001b[0m \u001b[0;31m#solucion: tupla de sets de tomas\u001b[0m\u001b[0;34m\u001b[0m\u001b[0;34m\u001b[0m\u001b[0;34m\u001b[0m\u001b[0m\n",
            "\u001b[0;31mKeyboardInterrupt\u001b[0m: "
          ]
        }
      ]
    },
    {
      "cell_type": "markdown",
      "metadata": {
        "id": "su0EKub8WTzU",
        "colab_type": "text"
      },
      "source": [
        "**Resultado Fuerza Bruta**<br>\n",
        "Después de 60 minutos paro el proceso<br>\n",
        "num_tomas:  30  num_actores: 10 num_dias:  5<br>\n",
        "Mejor solucion parcial: [{1, 2, 3, 4, 5, 6}, {7, 8, 9, 10, 11, 12}, {13, 14, 20, 26, 27, 29}, {15, 16, 22, 25, 28, 30}, {17, 18, 19, 21, 23, 24}]<br>\n",
        "coste mejor solucion parcial: 31<br>\n"
      ]
    },
    {
      "cell_type": "markdown",
      "metadata": {
        "id": "tgrnsC2nkFa8",
        "colab_type": "text"
      },
      "source": [
        "***Calcula la complejidad del algoritmo por fuerza bruta***"
      ]
    },
    {
      "cell_type": "markdown",
      "metadata": {
        "id": "9eUd3xwckP68",
        "colab_type": "text"
      },
      "source": [
        "**Respuesta**\n",
        "\n",
        "(n fact r) * (n-r fact r) * ... (5 veces) <br>\n",
        "(30 fact 6) * (24 fact 6) * (18 fact 6) * (12 fact 6) * (6 fact 6)<br>\n",
        "\n",
        "**O(n!)**\n",
        "\n",
        "Total posibles soluciones (30 tomas 6 tomas/día):  1370874167589326400"
      ]
    },
    {
      "cell_type": "markdown",
      "metadata": {
        "id": "txbrmLmskReM",
        "colab_type": "text"
      },
      "source": [
        "( * ) ***Diseña un algoritmo que mejore la complejidad del algortimo por fuerza bruta. Argumenta porque crees que mejora el algoritmo por fuerza bruta***\n",
        "\n",
        "Dado que el algoritmo por fuerza bruta no lo puedo utilizar dado el orden de complejidad, he optado por un algormitmo de ramificación y poda  con función de poda heurística <br>\n",
        "(No puedo utilizar unas Cotas inforiores o superiores ya que el cálculo también es de un orden de magnitud similar al del algoritmo)\n",
        "\n",
        "La función de poda heurística está basado en:<br>\n",
        "\n",
        "*   La primera toma del día se coje la que tenga mayor número de actores (mayor coste). Puesto que tengo que hacerla cojo la mayor y a partir de ahí intento realizar las tomas aprovechando al máximo los actores que han tenido que ir\n",
        "*   Las siguientes tomas las cojo utilizando una función de valoración (coste de oportunidad) calculando: <br>\n",
        "los actores que ya estaban (ahorro)<br>\n",
        "los actores que tienen que ir (coste)<br>\n",
        "  valoracion = actores_tiene_ir-actores_ya_trabajando<br>\n",
        "  cojo las tomas que menor valoración tengan (más ahorro tienen)<br>\n",
        "  he puesto un máximo de 5 para evitar ramificaciones muy grandes, aunque con las pruebas realizadas nunca se llega<br>\n",
        "\n",
        "\n",
        "\n"
      ]
    },
    {
      "cell_type": "markdown",
      "metadata": {
        "id": "hLrVwt5QkZPD",
        "colab_type": "text"
      },
      "source": [
        "Respuesta"
      ]
    },
    {
      "cell_type": "code",
      "metadata": {
        "id": "m1eyM21Vkabg",
        "colab_type": "code",
        "colab": {}
      },
      "source": [
        "import itertools\n",
        "from itertools import permutations\n",
        "import math\n",
        "\n",
        "#variables globales\n",
        "mejor_solucion = list()\n",
        "coste_mejor_solucion = 10e10\n",
        "\n",
        "#devuelve un valor: basado en el coste/ahorro que supone añadir una toma ese día o dejarla para el día siguiente\n",
        "#Por ejemplo: si añado una toma que tiene 3 actores: 2 que ya están trabajando y 1 que no: -> -1 (ahorro de 1 actor)\n",
        "#Por ejemplo: si añado una toma que tiene 2 actores: 2 que ya están trabajando: -> -2 (ahorro de 2 actores)\n",
        "#Por ejemplo: si añado una toma que tiene 2 actores: 2 que ninguno están trabajando: -> 2 (tienen que ir 2 actores)\n",
        "#tomas_dia: set con las tomas\n",
        "#toma: número de la toma\n",
        "def valoracion_annadir_toma(TOMAS,tomas_dia,numero_toma):\n",
        "  actores_trabajando = set({})\n",
        "  actores_toma = actores_de_toma(TOMAS[numero_toma-1])\n",
        "  for toma in tomas_dia:\n",
        "    actores_trabajando.update(actores_de_toma(TOMAS[toma-1]))    \n",
        "\n",
        "  actores_ya_trabajando = actores_trabajando.intersection(actores_toma)\n",
        "\n",
        "  actores_tiene_ir = set(actores_toma) - actores_ya_trabajando\n",
        "  return (len(actores_tiene_ir) - len(actores_ya_trabajando))\n",
        "\n",
        "#test\n",
        "#tomas_dia = {1,3}\n",
        "#toma = 6\n",
        "#valoracion_annadir_toma(TOMAS,tomas_dia,toma)\n",
        "\n",
        "#A partir de las tomas_dia (len >0) Genera los hijos que tengan la valoración menor \n",
        "#max_hijos: máximo para evitar supuestas ramificaciones excesivas\n",
        "def crear_hijos(TOMAS,tomas,tomas_dia,max_hijos):\n",
        "  HIJOS = []\n",
        "  valoracion_minima = 10e10  \n",
        "\n",
        "  tomas_pendientes = set(tomas) - tomas_dia\n",
        "  #print(\"tomas_pendientes:\", tomas_pendientes)\n",
        "  for toma in tomas_pendientes: \n",
        "    valoracion = valoracion_annadir_toma(TOMAS,tomas_dia,toma)\n",
        "    if valoracion < valoracion_minima:\n",
        "      valoracion_minima = valoracion\n",
        "\n",
        "  #print(\"valoracion_minima: \", valoracion_minima)\n",
        "  for toma in tomas_pendientes: \n",
        "    valoracion = valoracion_annadir_toma(TOMAS,tomas_dia,toma)\n",
        "    if valoracion_minima == valoracion and len(HIJOS)<max_hijos:\n",
        "      HIJOS.append({toma})\n",
        "  return HIJOS\n",
        "\n",
        "#test\n",
        "#tomas_totales = set(range(1,len(TOMAS)+1)) \n",
        "#print(crear_hijos(TOMAS,tomas_totales,{1,6,7,20,22},5))\n",
        "\n",
        "#quita las tomas que no tengan ningún actor en común. Es decir, tomas que todos sus actores son nuevos ese día\n",
        "#en ese caso, hacemos que vayan el día siguiente. Esto es factible, sólo en el caso, que no tengamos la restricción de realizar las tomas lo antes posible\n",
        "def crear_hijos_si_tienen_actores_comunes(TOMAS,tomas,tomas_dia,max_hijos):\n",
        "  HIJOS = crear_hijos(TOMAS,tomas, tomas_dia,max_hijos)\n",
        "  actores_trabajando = set({})\n",
        "  for toma in tomas_dia:\n",
        "    actores_trabajando.update(actores_de_toma(TOMAS[toma-1]))    \n",
        "\n",
        "  for hijo in HIJOS:\n",
        "    actores_hijo = actores_de_toma(TOMAS[hijo-1])\n",
        "    actores_ya_trabajando = actores_trabajando.intersection(actores_hijo)\n",
        "    if len(actores_ya_trabajando) == 0:\n",
        "      HIJOS.remove(hijo)\n",
        "  return HIJOS\n",
        "\n",
        "#test\n",
        "#tomas_totales = { 11, 21} \n",
        "#print(crear_hijos(TOMAS,tomas_totales,{16},5))\n",
        "#print(crear_hijos_si_tienen_actores_comunes(TOMAS,tomas_totales,{16},5))\n",
        "\n",
        "#se utiliza para seleccionar el primer nodo del día\n",
        "#todo: investigar otras funciones\n",
        "def toma_con_mas_actores(TOMAS,tomas):\n",
        "  max_actores = 0 \n",
        "  toma_seleccionada = 0\n",
        "  for toma in tomas: \n",
        "    count_actores = len(actores_de_toma(TOMAS[toma-1]))\n",
        "    if count_actores > max_actores:\n",
        "      toma_seleccionada = toma\n",
        "      max_actores = count_actores    \n",
        "  return toma_seleccionada\n",
        "\n",
        "#test\n",
        "#tomas_totales = set(range(1,len(TOMAS)+1)) \n",
        "#print(toma_con_mas_actores(TOMAS,tomas_totales))"
      ],
      "execution_count": 0,
      "outputs": []
    },
    {
      "cell_type": "code",
      "metadata": {
        "id": "vFNrVVU8c2Xf",
        "colab_type": "code",
        "colab": {
          "base_uri": "https://localhost:8080/",
          "height": 221
        },
        "outputId": "c34deaf5-c3fb-4c9e-d080-781e3f6d40c8"
      },
      "source": [
        "import time\n",
        "\n",
        "#Nodos del grafo  {1,3,5} números de las tomas. He incluído un máximo para evitar ramificaciones excesivas. \n",
        "#Nodos del grafo: ({dia0,(lista dia0)})\n",
        "#   lista dia0: son las posibles tomas día 0 y para cada elemento se incluye (lista dia1), es decir tenemos un par: {dia, (lista dia)}\n",
        "#   y así recursivamente hasta que no se pueden generar más días\n",
        "#Se debería probar a cambiar dicho número\n",
        "\n",
        "#NODOS: array de días con los nodos posibles de ese día\n",
        "NODOS=[]\n",
        "dia = 0\n",
        "\n",
        "#lista de sets, nodo es un set\n",
        "def existeNodoEnLista(nodo,lista):  \n",
        "  for elemento in lista:\n",
        "    if elemento == nodo:\n",
        "      return True\n",
        "\n",
        "  return False\n",
        "\n",
        "def anadir_hijos(RAMA,HIJOS_ANTERIORES,tomas_pendientes,iteracion,max_tomas_dia):  \n",
        "  HIJOS = []\n",
        "  for nodo in HIJOS_ANTERIORES:\n",
        "    for x in crear_hijos(TOMAS,tomas_pendientes,nodo,5):\n",
        "      nuevo_nodo = nodo.union(x)\n",
        "      #compruebo que no esté añadido\n",
        "      if not existeNodoEnLista(nuevo_nodo,HIJOS):\n",
        "        HIJOS.append(nuevo_nodo)\n",
        "\n",
        "  #print(\"HIJOS FINAL\", HIJOS)  \n",
        "  if (iteracion+1) < max_tomas_dia:    \n",
        "    anadir_hijos(RAMA,HIJOS,tomas_pendientes,iteracion+1,max_tomas_dia)\n",
        "  else:\n",
        "    RAMA.append(HIJOS)\n",
        "\n",
        "\n",
        "def ramificacion_y_poda(TOMAS, tomas_pendientes):\n",
        "  start_time = time.time()\n",
        "  #nodo_inicial = set(toma_con_mas_actores(TOMAS, tomas_pendientes))  \n",
        "  toma_mas_actores = toma_con_mas_actores(TOMAS, tomas_pendientes)\n",
        "  #print(\"toma_mas_actores: \",toma_mas_actores)\n",
        "  nodo_inicial = {toma_mas_actores}\n",
        "\n",
        "  nodos_iniciales = []\n",
        "  nodos_iniciales.append(nodo_inicial)\n",
        "  rama = []\n",
        "  anadir_hijos(rama,nodos_iniciales, tomas_pendientes,1,6)\n",
        "\n",
        "  #todo: definir calcula_ramas, en función del día\n",
        "  #bucle que lo independice de los días\n",
        "  #dia1\n",
        "  rama_dia_1 = calcula_ramas_dia1(rama[0],tomas_pendientes)\n",
        "  #for elemento in rama_dia_1:\n",
        "  #  print(\"elemento 1:\", elemento)\n",
        "\n",
        "  #dia2\n",
        "  rama_dia_2 = calcula_ramas_dia2(rama_dia_1,tomas_pendientes)\n",
        "\n",
        "  #dia3 \n",
        "  rama_dia_3 = calcula_ramas_dia3(rama_dia_2,tomas_pendientes)\n",
        "\n",
        "  #dia4\n",
        "  rama_dia_4 = calcula_ramas_dia4(rama_dia_3,tomas_pendientes)\n",
        "\n",
        "  #dia5, el último elemento es una lista con 1 sólo elemento\n",
        "  soluciones = []\n",
        "  for elemento in rama_dia_4:\n",
        "    dia5 = elemento[4][0]\n",
        "    soluciones.append([ elemento[0], elemento[1], elemento[2], elemento[3], dia5])\n",
        "\n",
        "  print(\"Nivel complejidad. Total soluciones: \", len(soluciones))  \n",
        "  solucion = calcula_mejor_solucion(TOMAS,soluciones)\n",
        "  print(\"Duración: \", int((time.time() - start_time)), \" segundos\")\n",
        "\n",
        "def calcula_ramas_dia1(rama,tomas_pendientes):\n",
        "  rama_dia_1 = []\n",
        "  for dia1 in rama:\n",
        "    tomas_pendientes_dia1 = tomas_pendientes - dia1\n",
        "    toma_mas_actores1 = toma_con_mas_actores(TOMAS, tomas_pendientes_dia1)\n",
        "\n",
        "    nodo_inicial1 = {toma_mas_actores1}\n",
        "    nodos_iniciales1 = []\n",
        "    nodos_iniciales1.append(nodo_inicial1)\n",
        "    rama1 = []\n",
        "    anadir_hijos(rama1,nodos_iniciales1, tomas_pendientes_dia1,1,6)\n",
        "    \n",
        "    rama_dia_1.append([dia1,rama1[0]])\n",
        "\n",
        "  return rama_dia_1\n",
        "\n",
        "def calcula_ramas_dia2(rama_dia_1,tomas_pendientes):\n",
        "  rama_dia_2 = []\n",
        "  for elemento in rama_dia_1:\n",
        "    dia1 = elemento[0]\n",
        "    for dia2 in elemento[1]:\n",
        "      #print(\"dia1:\", dia1)\n",
        "      tomas_pendientes_dia2 = tomas_pendientes - dia1 - dia2\n",
        "      toma_mas_actores2 = toma_con_mas_actores(TOMAS, tomas_pendientes_dia2)\n",
        "      nodo_inicial2 = {toma_mas_actores2}\n",
        "      nodos_iniciales2 = []\n",
        "      nodos_iniciales2.append(nodo_inicial2)\n",
        "      rama2 = []\n",
        "      anadir_hijos(rama2,nodos_iniciales2, tomas_pendientes_dia2,1,6)\n",
        "      \n",
        "      rama_dia_2.append([dia1,dia2,rama2[0]])\n",
        "\n",
        "  return rama_dia_2\n",
        "\n",
        "def calcula_ramas_dia3(rama_dia_2,tomas_pendientes):\n",
        "  rama_dia_3 = []\n",
        "  for elemento in rama_dia_2:\n",
        "    dia1 = elemento[0]\n",
        "    dia2 = elemento[1]\n",
        "    for dia3 in elemento[2]:\n",
        "      tomas_pendientes_dia3 = tomas_pendientes - dia1 - dia2 - dia3\n",
        "      toma_mas_actores3 = toma_con_mas_actores(TOMAS, tomas_pendientes_dia3)\n",
        "\n",
        "      nodo_inicial3 = {toma_mas_actores3}\n",
        "      nodos_iniciales3 = []\n",
        "      nodos_iniciales3.append(nodo_inicial3)\n",
        "      rama3 = []\n",
        "      anadir_hijos(rama3,nodos_iniciales3, tomas_pendientes_dia3,1,6)\n",
        "      \n",
        "      rama_dia_3.append([dia1,dia2,dia3, rama3[0]])\n",
        "\n",
        "  return rama_dia_3\n",
        "\n",
        "def calcula_ramas_dia4(rama_dia_3,tomas_pendientes):\n",
        "  rama_dia_4 = []\n",
        "  for elemento in rama_dia_3:\n",
        "    dia1 = elemento[0]\n",
        "    dia2 = elemento[1]\n",
        "    dia3 = elemento[2]\n",
        "    for dia4 in elemento[3]:\n",
        "      tomas_pendientes_dia4 = tomas_pendientes - dia1 - dia2 - dia3 - dia4\n",
        "      toma_mas_actores4 = toma_con_mas_actores(TOMAS, tomas_pendientes_dia4)\n",
        "\n",
        "      nodo_inicial4 = {toma_mas_actores4}\n",
        "      nodos_iniciales4 = []\n",
        "      nodos_iniciales4.append(nodo_inicial4)\n",
        "      rama4 = []\n",
        "      anadir_hijos(rama4,nodos_iniciales4, tomas_pendientes_dia4,1,6)\n",
        "      \n",
        "      rama_dia_4.append([dia1,dia2,dia3,dia4, rama4[0]])\n",
        "\n",
        "  return rama_dia_4\n",
        "\n",
        "def calcula_mejor_solucion(TOMAS, soluciones):\n",
        "  mejor_solucion = list()\n",
        "  coste_mejor_solucion = 10e10\n",
        "\n",
        "  for solucion in soluciones:  \n",
        "    coste = coste_de_solucion(TOMAS,solucion,1)\n",
        "    \n",
        "    if (coste < coste_mejor_solucion):\n",
        "        print(\"solución parcial: \", solucion)\n",
        "        print(\"coste parcial:\", coste)\n",
        "        mejor_solucion = solucion \n",
        "        coste_mejor_solucion = coste         \n",
        "  \n",
        "  print(\"Mejor solucion:\", mejor_solucion)\n",
        "  print(\"Coste mejor solucion:\", coste_mejor_solucion)\n",
        "  \n",
        "tomas_totales = set(range(1,len(TOMAS)+1)) \n",
        "ramificacion_y_poda(TOMAS,tomas_totales)\n"
      ],
      "execution_count": 14,
      "outputs": [
        {
          "output_type": "stream",
          "text": [
            "Nivel complejidad. Total soluciones:  19874\n",
            "solución parcial:  [{1, 2, 20, 6, 7, 22}, {17, 3, 4, 19, 11, 15}, {18, 8, 9, 10, 12, 14}, {16, 5, 25, 28, 13, 30}, {21, 23, 24, 26, 27, 29}]\n",
            "coste parcial: 30\n",
            "solución parcial:  [{1, 2, 20, 6, 7, 22}, {17, 3, 4, 19, 11, 15}, {18, 23, 8, 9, 12, 14}, {13, 26, 24, 10, 27, 29}, {16, 5, 21, 25, 28, 30}]\n",
            "coste parcial: 29\n",
            "solución parcial:  [{1, 2, 20, 6, 7, 22}, {26, 5, 8, 10, 11, 12}, {3, 4, 21, 9, 29, 15}, {16, 25, 27, 28, 13, 30}, {17, 18, 19, 23, 24, 14}]\n",
            "coste parcial: 28\n",
            "solución parcial:  [{1, 2, 20, 6, 7, 22}, {26, 5, 9, 10, 11, 12}, {3, 4, 21, 8, 29, 15}, {16, 25, 27, 28, 13, 30}, {17, 18, 19, 23, 24, 14}]\n",
            "coste parcial: 27\n",
            "Mejor solucion: [{1, 2, 20, 6, 7, 22}, {26, 5, 9, 10, 11, 12}, {3, 4, 21, 8, 29, 15}, {16, 25, 27, 28, 13, 30}, {17, 18, 19, 23, 24, 14}]\n",
            "Coste mejor solucion: 27\n",
            "Duración:  15  segundos\n"
          ],
          "name": "stdout"
        }
      ]
    },
    {
      "cell_type": "markdown",
      "metadata": {
        "id": "eGDB4K6uk1iN",
        "colab_type": "text"
      },
      "source": [
        "( * ) ***Calcula la complejidad del algoritmo ***"
      ]
    },
    {
      "cell_type": "markdown",
      "metadata": {
        "id": "NhpTh_BPk1ms",
        "colab_type": "text"
      },
      "source": [
        "Respuesta\n",
        "Mínimo: puedo generar cada nodo con una sola hoja. Es decir, tengo tomas que por la participación de los actores se ahorra y coincide con que se realicen ese día. Es muy poco probable.<br> \n",
        "\n",
        "Máximo: por cada día: elijo 1 toma, quedan 5 tomas que pueden tener como máximo 5 opciones para cada día. Podría ser muy elevado pero también es muy poco probable.<br>\n",
        "\n",
        "Los resultados tienen a ser bajos. En el caso del ejemplo **19874**."
      ]
    },
    {
      "cell_type": "markdown",
      "metadata": {
        "id": "3M6QjTsSkmYe",
        "colab_type": "text"
      },
      "source": [
        "***Según el problema (y tenga sentido), diseña un juego de datos de entrada aleatorios***"
      ]
    },
    {
      "cell_type": "markdown",
      "metadata": {
        "id": "Jc3_OlyNkvjZ",
        "colab_type": "text"
      },
      "source": [
        "Respuesta"
      ]
    },
    {
      "cell_type": "code",
      "metadata": {
        "id": "sJ-N2etjkyWc",
        "colab_type": "code",
        "colab": {}
      },
      "source": [
        "import random\n",
        "TOMAS_RANDOM=[[random.randint(0,1) for x in range(10)] for y in range(30)]"
      ],
      "execution_count": 0,
      "outputs": []
    },
    {
      "cell_type": "markdown",
      "metadata": {
        "id": "zy5ZROmjlGo1",
        "colab_type": "text"
      },
      "source": [
        "***Aplica el algoritmo al juego de datos generado***"
      ]
    },
    {
      "cell_type": "markdown",
      "metadata": {
        "id": "_Cmj-PVylMsa",
        "colab_type": "text"
      },
      "source": [
        "Respuesta"
      ]
    },
    {
      "cell_type": "code",
      "metadata": {
        "id": "Jkx8GeiYlUz1",
        "colab_type": "code",
        "colab": {
          "base_uri": "https://localhost:8080/",
          "height": 326
        },
        "outputId": "bf1a2e4f-255e-4abb-90f5-d1be9f3073ff"
      },
      "source": [
        "print(TOMAS_RANDOM)\n",
        "tomas_totales = set(range(1,len(TOMAS_RANDOM)+1)) \n",
        "ramificacion_y_poda(TOMAS_RANDOM,tomas_totales)"
      ],
      "execution_count": 16,
      "outputs": [
        {
          "output_type": "stream",
          "text": [
            "[[0, 0, 0, 1, 0, 0, 0, 0, 1, 1], [1, 0, 0, 0, 1, 1, 1, 0, 0, 1], [1, 0, 0, 0, 0, 1, 1, 0, 0, 0], [0, 0, 1, 0, 0, 1, 0, 1, 1, 1], [0, 0, 0, 1, 0, 0, 0, 1, 1, 1], [1, 1, 1, 0, 0, 0, 0, 0, 1, 0], [1, 1, 0, 1, 1, 0, 0, 0, 1, 1], [1, 0, 1, 0, 0, 0, 1, 1, 1, 1], [0, 0, 1, 1, 1, 1, 0, 0, 0, 0], [0, 0, 1, 1, 0, 0, 1, 1, 1, 0], [0, 1, 0, 1, 0, 0, 0, 0, 0, 1], [1, 0, 1, 0, 1, 1, 0, 0, 0, 0], [0, 1, 0, 0, 0, 0, 0, 1, 1, 0], [0, 1, 0, 1, 0, 1, 1, 1, 1, 0], [0, 0, 0, 0, 0, 1, 1, 0, 1, 1], [0, 0, 1, 0, 0, 1, 1, 0, 1, 0], [1, 0, 0, 1, 0, 0, 1, 1, 1, 1], [0, 0, 0, 0, 1, 0, 1, 0, 0, 0], [1, 0, 1, 1, 0, 0, 0, 0, 1, 0], [1, 1, 0, 1, 0, 0, 1, 1, 1, 1], [0, 0, 1, 1, 1, 1, 0, 1, 0, 1], [1, 1, 1, 0, 0, 0, 1, 1, 0, 0], [1, 1, 0, 0, 1, 0, 0, 1, 1, 1], [1, 1, 1, 0, 0, 0, 0, 1, 0, 1], [0, 0, 0, 0, 0, 0, 0, 0, 1, 1], [1, 1, 1, 0, 0, 0, 1, 1, 0, 0], [1, 0, 1, 0, 1, 1, 1, 1, 0, 1], [1, 0, 0, 0, 0, 0, 0, 0, 0, 0], [0, 1, 0, 1, 0, 1, 0, 1, 0, 0], [1, 1, 1, 0, 1, 1, 0, 1, 0, 0]]\n",
            "Nivel complejidad. Total soluciones:  57669\n",
            "solución parcial:  [{1, 2, 20, 6, 7, 22}, {17, 3, 4, 19, 11, 15}, {18, 8, 9, 10, 12, 14}, {16, 5, 25, 28, 13, 30}, {21, 23, 24, 26, 27, 29}]\n",
            "coste parcial: 49\n",
            "solución parcial:  [{1, 2, 20, 6, 7, 22}, {17, 3, 4, 19, 11, 15}, {18, 8, 9, 10, 12, 14}, {16, 25, 27, 28, 13, 30}, {21, 5, 23, 24, 26, 29}]\n",
            "coste parcial: 48\n",
            "solución parcial:  [{1, 2, 20, 6, 7, 22}, {17, 3, 4, 19, 11, 15}, {24, 23, 8, 9, 12, 14}, {18, 26, 13, 10, 29, 30}, {16, 5, 21, 25, 27, 28}]\n",
            "coste parcial: 47\n",
            "solución parcial:  [{1, 2, 20, 6, 7, 22}, {17, 19, 10, 23, 26, 11}, {30, 8, 9, 12, 28, 14}, {16, 4, 5, 25, 13, 15}, {18, 3, 21, 24, 27, 29}]\n",
            "coste parcial: 46\n",
            "solución parcial:  [{1, 2, 20, 6, 7, 22}, {17, 19, 10, 8, 26, 11}, {18, 30, 9, 12, 28, 14}, {16, 3, 4, 5, 25, 15}, {13, 21, 23, 24, 27, 29}]\n",
            "coste parcial: 45\n",
            "solución parcial:  [{1, 20, 6, 7, 22, 13}, {17, 19, 10, 8, 26, 11}, {18, 23, 24, 9, 12, 14}, {16, 3, 4, 5, 25, 15}, {2, 21, 27, 28, 29, 30}]\n",
            "coste parcial: 44\n",
            "Mejor solucion: [{1, 20, 6, 7, 22, 13}, {17, 19, 10, 8, 26, 11}, {18, 23, 24, 9, 12, 14}, {16, 3, 4, 5, 25, 15}, {2, 21, 27, 28, 29, 30}]\n",
            "Coste mejor solucion: 44\n",
            "Duración:  43  segundos\n"
          ],
          "name": "stdout"
        }
      ]
    },
    {
      "cell_type": "markdown",
      "metadata": {
        "colab_type": "text",
        "id": "eTFWUJQrtGcv"
      },
      "source": [
        "***Enumera las referencias que has utilizado(si ha sido necesario) para llevar a cabo el trabajo***"
      ]
    },
    {
      "cell_type": "markdown",
      "metadata": {
        "id": "YKQ_mRBttWsP",
        "colab_type": "text"
      },
      "source": [
        "**Respuesta**<br>\n",
        "Principalmente he utilizado **Actividad Guiada 2**\n",
        "\n",
        "Lectura rápida de:<br>\n",
        "https://www.researchgate.net/publication/320427137_Algoritmo_ACO_aplicado_al_TSP_Resumen_de_una_experiencia_practica <br>\n",
        "https://imarrero.webs.ull.es/sctm03.v2/modulo1/JJSalazar.pdf <br>\n",
        "https://www.iit.comillas.edu/aramos/presentaciones/t_mmo_M.pdf <br>\n",
        "http://bibing.us.es/proyectos/abreproy/5760/fichero/PFC_Jesus_Vazquez.pdf <br>\n",
        "http://www.cs.us.es/~fsancho/?e=71<br>\n",
        "\n",
        "\n"
      ]
    },
    {
      "cell_type": "markdown",
      "metadata": {
        "id": "kAkDPUyRtYyH",
        "colab_type": "text"
      },
      "source": [
        "***Describe brevemente las lineas de como crees que es posible avanzar en el estudio del problema. Ten en cuenta incluso posibles variaciones del problema y/o variaciones al alza del tamaño***"
      ]
    },
    {
      "cell_type": "markdown",
      "metadata": {
        "id": "IE0uZmo-tZu-",
        "colab_type": "text"
      },
      "source": [
        "**Respuesta**<br>\n",
        "Incluir costes de los actores<br>\n",
        "Probar con la función heurística variando determinados parámetros:\n",
        " + método de selección de la primera toma de cada día\n",
        " + si sólo queda una toma un día: no seleccionar una toma si todos los actores son nuevos y pasarla al día siguiente (no hay restricción de tiempo)\n",
        "\n",
        "Implementar búsquedas locales con generador de vecindad asociado a la \"toma\" con más actores comunes <br>\n",
        "\n",
        "\n"
      ]
    }
  ]
}