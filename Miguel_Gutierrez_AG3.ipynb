{
  "nbformat": 4,
  "nbformat_minor": 0,
  "metadata": {
    "colab": {
      "name": "Miguel Gutierrez - AG3.ipynb",
      "provenance": [],
      "collapsed_sections": [],
      "authorship_tag": "ABX9TyOr1gSVZQs5BfcqoyGNG+F6",
      "include_colab_link": true
    },
    "kernelspec": {
      "name": "python3",
      "display_name": "Python 3"
    }
  },
  "cells": [
    {
      "cell_type": "markdown",
      "metadata": {
        "id": "view-in-github",
        "colab_type": "text"
      },
      "source": [
        "<a href=\"https://colab.research.google.com/github/miguelgutierrez/03MAIR---Algoritmos-de-Optimizacion---2019/blob/master/Miguel_Gutierrez_AG3.ipynb\" target=\"_parent\"><img src=\"https://colab.research.google.com/assets/colab-badge.svg\" alt=\"Open In Colab\"/></a>"
      ]
    },
    {
      "cell_type": "markdown",
      "metadata": {
        "id": "c5P2UqnGpegG",
        "colab_type": "text"
      },
      "source": [
        "Actividad Guiada - AG3 <br> \n",
        "Miguel Gutiérrez <br>\n",
        "Url: https://colab.research.google.com/drive/1MOv3B7Ha0lclJ3cs_FDCCoaYZqIUmcP1\n",
        "\n"
      ]
    },
    {
      "cell_type": "code",
      "metadata": {
        "id": "_pO1J8X3p04i",
        "colab_type": "code",
        "colab": {
          "base_uri": "https://localhost:8080/",
          "height": 187
        },
        "outputId": "39b2eb3e-5df6-44a4-cef5-e90231f00b6a"
      },
      "source": [
        "!pip install request\n",
        "import urllib.request\n",
        "\n",
        "file = \"swiss42.tsp\"\n",
        "\n",
        "urllib.request.urlretrieve(\"http://elib.zib.de/pub/mp-testdata/tsp/tsplib/tsp/swiss42.tsp\", file)\n"
      ],
      "execution_count": 6,
      "outputs": [
        {
          "output_type": "stream",
          "text": [
            "Requirement already satisfied: request in /usr/local/lib/python3.6/dist-packages (2019.4.13)\n",
            "Requirement already satisfied: get in /usr/local/lib/python3.6/dist-packages (from request) (2019.4.13)\n",
            "Requirement already satisfied: setuptools in /usr/local/lib/python3.6/dist-packages (from request) (42.0.2)\n",
            "Requirement already satisfied: post in /usr/local/lib/python3.6/dist-packages (from request) (2019.4.13)\n",
            "Requirement already satisfied: query-string in /usr/local/lib/python3.6/dist-packages (from get->request) (2019.4.13)\n",
            "Requirement already satisfied: public in /usr/local/lib/python3.6/dist-packages (from query-string->get->request) (2019.4.13)\n",
            "Requirement already satisfied: tsplib95 in /usr/local/lib/python3.6/dist-packages (0.6.1)\n",
            "Requirement already satisfied: networkx~=2.1 in /usr/local/lib/python3.6/dist-packages (from tsplib95) (2.4)\n",
            "Requirement already satisfied: Click>=6.0 in /usr/local/lib/python3.6/dist-packages (from tsplib95) (7.0)\n",
            "Requirement already satisfied: decorator>=4.3.0 in /usr/local/lib/python3.6/dist-packages (from networkx~=2.1->tsplib95) (4.4.1)\n"
          ],
          "name": "stdout"
        }
      ]
    },
    {
      "cell_type": "code",
      "metadata": {
        "id": "p0DK_nSOsNwb",
        "colab_type": "code",
        "colab": {}
      },
      "source": [
        "!pip install tsplib95\n",
        "import tsplib95\n",
        "import random\n",
        "import math"
      ],
      "execution_count": 0,
      "outputs": []
    },
    {
      "cell_type": "code",
      "metadata": {
        "id": "kxJ6oEz8sdOO",
        "colab_type": "code",
        "colab": {}
      },
      "source": [
        "problem = tsplib95.load_problem(file)"
      ],
      "execution_count": 0,
      "outputs": []
    },
    {
      "cell_type": "code",
      "metadata": {
        "id": "eKZZo0kTuVJK",
        "colab_type": "code",
        "colab": {}
      },
      "source": [
        "#Nodos\n",
        "Nodos = list(problem.get_nodes())\n",
        "#Aristas\n",
        "Aristas = list(problem.get_edges())\n",
        "\n"
      ],
      "execution_count": 0,
      "outputs": []
    },
    {
      "cell_type": "code",
      "metadata": {
        "id": "F1_P-rwssijT",
        "colab_type": "code",
        "colab": {}
      },
      "source": [
        "#Se genera una solucion aleatoria con comienzo en en el nodo 0\n",
        "def crear_solucion(Nodos): \n",
        "  solucion = [0]\n",
        "  for i in range(len(Nodos)-1):\n",
        "    solucion = solucion + [random.choice(list(set(Nodos) - set(solucion)))]\n",
        "  return solucion  "
      ],
      "execution_count": 0,
      "outputs": []
    },
    {
      "cell_type": "code",
      "metadata": {
        "id": "17vHZ6aNuPk1",
        "colab_type": "code",
        "colab": {}
      },
      "source": [
        "#Devuelve la distancia entre dos nodos\n",
        "def distancia(a,b, problem):\n",
        "  return problem.wfunc(a,b)\n"
      ],
      "execution_count": 0,
      "outputs": []
    },
    {
      "cell_type": "code",
      "metadata": {
        "id": "zMgyo7oiuy_m",
        "colab_type": "code",
        "colab": {
          "base_uri": "https://localhost:8080/",
          "height": 34
        },
        "outputId": "87327c6f-0581-4cee-edcf-2190f89d3277"
      },
      "source": [
        "#Devuelve la distancia total de una trayectoria\n",
        "def distancia_total(solucion, problem):\n",
        "  distancia_total = 0\n",
        "  for i in range(len(solucion)-1):\n",
        "    distancia_total += distancia(solucion[i] ,solucion[i+1] ,  problem)\n",
        "  return distancia_total + distancia(solucion[len(solucion)-1] ,solucion[0], problem)\n",
        " \n",
        "solucion = crear_solucion(Nodos)\n",
        "distancia_total(solucion,problem)  \n"
      ],
      "execution_count": 27,
      "outputs": [
        {
          "output_type": "execute_result",
          "data": {
            "text/plain": [
              "4403"
            ]
          },
          "metadata": {
            "tags": []
          },
          "execution_count": 27
        }
      ]
    },
    {
      "cell_type": "code",
      "metadata": {
        "id": "P5Z4GuK4vdPb",
        "colab_type": "code",
        "colab": {
          "base_uri": "https://localhost:8080/",
          "height": 54
        },
        "outputId": "d31d8173-f2a4-4c05-d7dd-e5626e9aaa7c"
      },
      "source": [
        "#Busqueda aleatorio\n",
        "def busqueda_aleatoria(problem, N):\n",
        "  mejor_solucion = crear_solucion(Nodos)\n",
        "  mejor_valor    = distancia_total(mejor_solucion, problem)\n",
        "\n",
        "  for i in range(N):\n",
        "      solucion = crear_solucion(Nodos)\n",
        "      valor    = distancia_total(solucion, problem)\n",
        "      if valor < mejor_valor:\n",
        "        mejor_solucion = solucion\n",
        "        mejor_valor = valor\n",
        "\n",
        "  print(\"La mejor solucion es \",mejor_valor,  mejor_solucion)\n",
        "   \n",
        "busqueda_aleatoria(problem, 20000)\n"
      ],
      "execution_count": 30,
      "outputs": [
        {
          "output_type": "stream",
          "text": [
            "La mejor solucion es  3590 [0, 34, 33, 36, 35, 38, 21, 39, 24, 18, 5, 41, 29, 22, 10, 2, 28, 32, 31, 9, 15, 16, 19, 26, 11, 1, 40, 30, 25, 20, 7, 17, 8, 23, 6, 12, 27, 3, 13, 37, 14, 4]\n"
          ],
          "name": "stdout"
        }
      ]
    },
    {
      "cell_type": "code",
      "metadata": {
        "id": "WcvZXqrDxTlC",
        "colab_type": "code",
        "colab": {}
      },
      "source": [
        "\n",
        "def genera_vecina(solucion):\n",
        "  #Generador de soluciones vecinas: 2-opt (intercambiar 2 nodos) Si hay N nodos se generan (N-1)x(N-2)/2 soluciones\n",
        "  #print(solucion)\n",
        "  mejor_solucion = []\n",
        "  mejor_distancia = 10e100\n",
        "  for i in range(1,len(solucion)-1):\n",
        "    for j in range(i+1, len(solucion)):\n",
        "      vecina = solucion[:i] + [solucion[j]] + solucion[i+1:j] + [solucion[i]] + solucion[j+1:] \n",
        "      distancia_vecina = distancia_total(vecina, problem)\n",
        "      if distancia_vecina <= mejor_distancia:\n",
        "        mejor_distancia = distancia_vecina\n",
        "        mejor_solucion = vecina\n",
        "  return mejor_solucion\n",
        "      \n",
        "solucion = crear_solucion(Nodos)\n",
        "mejor_solucion = genera_vecina(solucion)\n",
        "\n"
      ],
      "execution_count": 0,
      "outputs": []
    },
    {
      "cell_type": "code",
      "metadata": {
        "id": "Sa2OlPGqvcjB",
        "colab_type": "code",
        "colab": {}
      },
      "source": [
        "#####################################################################\n",
        "def busqueda_local(problem, N):\n",
        "  #problem = datos del problema\n",
        "  #N = numero de iteraciones\n",
        "  \n",
        "  mejor_solucion = []\n",
        "  mejor_distancia = 10e100\n",
        "  \n",
        "  solucion_referencia = crear_solucion(Nodos)\n",
        "  \n",
        "  for i in range(N):\n",
        "    vecina = genera_vecina(solucion_referencia)\n",
        "    distancia_vecina = distancia_total(vecina, problem)\n",
        "    if distancia_vecina <= mejor_distancia:\n",
        "      mejor_solucion = vecina\n",
        "      mejor_distancia = distancia_vecina\n",
        "        \n",
        "    solucion_referencia = vecina\n",
        "  print(\"La mejor solución es: \", mejor_distancia, mejor_solucion)"
      ],
      "execution_count": 0,
      "outputs": []
    },
    {
      "cell_type": "code",
      "metadata": {
        "id": "1Mtfy71f0V6a",
        "colab_type": "code",
        "colab": {
          "base_uri": "https://localhost:8080/",
          "height": 54
        },
        "outputId": "78275e61-bae3-4056-b1a7-0100caf9f2c2"
      },
      "source": [
        "busqueda_local(problem,200)"
      ],
      "execution_count": 42,
      "outputs": [
        {
          "output_type": "stream",
          "text": [
            "La mejor solución es:  1808 [0, 35, 36, 7, 3, 27, 2, 28, 8, 10, 25, 11, 12, 18, 13, 19, 5, 1, 20, 33, 34, 6, 26, 4, 38, 22, 39, 21, 24, 40, 23, 41, 9, 29, 30, 32, 31, 17, 37, 15, 16, 14]\n"
          ],
          "name": "stdout"
        }
      ]
    },
    {
      "cell_type": "code",
      "metadata": {
        "id": "VTCuhUFA5gmL",
        "colab_type": "code",
        "colab": {}
      },
      "source": [
        "def genera_vecina_aleatorio(solucion):\n",
        "  #Generador de 1 solucion vecina 2-opt (intercambiar 2 nodos)\n",
        "  #Se puede mejorar haciendo que la elección no se uniforme sino entre las que estén más proximas\n",
        "  i = random.choice(range(1, len(solucion)) )\n",
        "  j = random.choice(list(set(range(1, len(solucion))) - {i}))\n",
        "  if j<i:\n",
        "    i,j=j,i\n",
        "  vecina = list(solucion[:i] + [solucion[j]] + solucion[i+1:j] + [solucion[i]] + solucion[j+1:])\n",
        "  return vecina"
      ],
      "execution_count": 0,
      "outputs": []
    },
    {
      "cell_type": "code",
      "metadata": {
        "id": "8f17BN4l5i72",
        "colab_type": "code",
        "colab": {
          "base_uri": "https://localhost:8080/",
          "height": 71
        },
        "outputId": "f5f56047-7425-4790-bd8f-5cbfe553ea19"
      },
      "source": [
        "solucion = crear_solucion(Nodos)\n",
        "print(solucion, \"\\n\",genera_vecina_aleatorio(solucion))"
      ],
      "execution_count": 58,
      "outputs": [
        {
          "output_type": "stream",
          "text": [
            "[0, 37, 39, 23, 15, 27, 25, 13, 35, 28, 24, 38, 29, 19, 30, 6, 4, 7, 10, 5, 31, 9, 41, 22, 26, 36, 34, 17, 20, 32, 21, 16, 1, 2, 14, 3, 18, 12, 11, 33, 40, 8] \n",
            " [0, 37, 39, 23, 15, 27, 25, 13, 35, 28, 24, 38, 29, 19, 30, 31, 4, 7, 10, 5, 6, 9, 41, 22, 26, 36, 34, 17, 20, 32, 21, 16, 1, 2, 14, 3, 18, 12, 11, 33, 40, 8]\n"
          ],
          "name": "stdout"
        }
      ]
    },
    {
      "cell_type": "code",
      "metadata": {
        "id": "8mOgQ_L37kUT",
        "colab_type": "code",
        "colab": {}
      },
      "source": [
        "#Funcion de probabilidad para determinar si se cambia \n",
        "#    a una solución peor respecto a la de referencia(exponencial)\n",
        "def probabilidad(T,d):\n",
        "  if random.random() <= math.exp(-1*d / T)   :\n",
        "    return True\n",
        "  else:\n",
        "    return False\n",
        "\n",
        "\n",
        "def bajar_temperatura(T):\n",
        "  return T*.9999\n",
        "\n"
      ],
      "execution_count": 0,
      "outputs": []
    },
    {
      "cell_type": "code",
      "metadata": {
        "id": "7_vmdjCo701T",
        "colab_type": "code",
        "colab": {
          "base_uri": "https://localhost:8080/",
          "height": 1000
        },
        "outputId": "e2ac3f36-c326-427b-fe94-cbd8fa994cec"
      },
      "source": [
        "#####################################################################\n",
        "def recocido_simulado(problem, TEMPERATURA=1000):\n",
        "  #problem = datos del problema\n",
        "\n",
        "  solucion_referencia = crear_solucion(Nodos)\n",
        "  distancia_referencia = distancia_total(solucion_referencia, problem)\n",
        "  \n",
        "  mejor_solucion = []\n",
        "  mejor_distancia = 10e100\n",
        "  while TEMPERATURA > 1:\n",
        "    #Genera una solución vecina(aleatoria)\n",
        "    vecina = genera_vecina_aleatorio(solucion_referencia) \n",
        "    \n",
        "    #Calcula su valor(distancia)\n",
        "    distancia_vecina = distancia_total(vecina, problem)\n",
        "    \n",
        "    #Si es la mejor solución de todas se guarda\n",
        "    if distancia_vecina < mejor_distancia:\n",
        "      mejor_solucion = vecina\n",
        "      mejor_distancia = distancia_vecina\n",
        "      print('\\t****Encontrada mejor solucion:', mejor_distancia , mejor_solucion, '\\n')\n",
        "    \n",
        "    #Si la nueva vecina es mejor se cambia y si es peor se cambia según \n",
        "    # una probabilidad dependiente de T y de |distancia_referencia - distancia_vecina|\n",
        "    p = probabilidad(TEMPERATURA, abs(distancia_referencia - distancia_vecina) )\n",
        "    if distancia_vecina < distancia_referencia or p :\n",
        "      solucion_referencia = vecina\n",
        "      distancia_referencia = distancia_vecina\n",
        "    \n",
        "    TEMPERATURA = bajar_temperatura(TEMPERATURA)\n",
        "\n",
        "  print(\"La mejor solución encontrada es :\" , mejor_distancia, mejor_solucion  )\n",
        "  return mejor_solucion\n",
        "\n",
        "sol = recocido_simulado(problem, TEMPERATURA=100000)\n"
      ],
      "execution_count": 68,
      "outputs": [
        {
          "output_type": "stream",
          "text": [
            "\t****Encontrada mejor solucion: 5218 [0, 6, 35, 5, 16, 12, 31, 1, 25, 32, 9, 26, 29, 27, 39, 28, 3, 22, 38, 41, 33, 19, 4, 34, 10, 36, 11, 13, 40, 21, 15, 2, 37, 18, 7, 8, 24, 17, 30, 14, 20, 23] \n",
            "\n",
            "\t****Encontrada mejor solucion: 5099 [0, 7, 35, 5, 16, 12, 31, 1, 25, 32, 9, 26, 29, 27, 39, 28, 3, 22, 38, 41, 33, 19, 4, 34, 10, 36, 11, 13, 40, 21, 15, 2, 37, 18, 6, 8, 24, 17, 30, 14, 20, 23] \n",
            "\n",
            "\t****Encontrada mejor solucion: 5011 [0, 7, 35, 5, 16, 12, 31, 1, 25, 6, 9, 26, 29, 27, 39, 28, 3, 22, 38, 41, 33, 19, 4, 34, 10, 36, 11, 13, 40, 21, 15, 2, 37, 18, 30, 8, 24, 17, 32, 14, 20, 23] \n",
            "\n",
            "\t****Encontrada mejor solucion: 4977 [0, 7, 35, 5, 16, 12, 31, 1, 25, 6, 9, 26, 29, 27, 39, 28, 3, 22, 38, 41, 33, 19, 4, 32, 10, 36, 11, 13, 40, 21, 15, 2, 37, 18, 30, 8, 24, 17, 34, 14, 20, 23] \n",
            "\n",
            "\t****Encontrada mejor solucion: 4961 [0, 10, 31, 34, 16, 12, 35, 29, 25, 6, 30, 26, 1, 27, 39, 28, 3, 22, 38, 41, 33, 19, 4, 32, 7, 36, 11, 13, 40, 21, 8, 2, 37, 18, 9, 15, 24, 17, 5, 14, 20, 23] \n",
            "\n",
            "\t****Encontrada mejor solucion: 4882 [0, 10, 31, 34, 16, 12, 35, 29, 25, 6, 30, 26, 1, 27, 39, 28, 3, 22, 38, 41, 33, 37, 4, 32, 7, 36, 11, 13, 40, 21, 8, 2, 19, 18, 9, 15, 24, 17, 5, 14, 20, 23] \n",
            "\n",
            "\t****Encontrada mejor solucion: 4821 [0, 10, 31, 34, 16, 12, 35, 29, 25, 6, 30, 33, 1, 27, 39, 28, 3, 22, 38, 41, 26, 37, 4, 32, 7, 36, 11, 13, 40, 21, 8, 2, 19, 18, 9, 15, 24, 17, 5, 14, 20, 23] \n",
            "\n",
            "\t****Encontrada mejor solucion: 4620 [0, 10, 31, 34, 16, 12, 35, 29, 25, 9, 30, 33, 1, 27, 39, 28, 3, 22, 38, 41, 26, 37, 4, 32, 7, 36, 11, 13, 40, 21, 8, 2, 19, 18, 6, 15, 24, 17, 5, 14, 20, 23] \n",
            "\n",
            "\t****Encontrada mejor solucion: 4553 [0, 29, 24, 35, 20, 36, 12, 17, 15, 19, 28, 26, 11, 2, 39, 32, 41, 23, 38, 37, 31, 16, 22, 27, 18, 30, 4, 5, 34, 40, 8, 6, 1, 21, 25, 33, 3, 13, 7, 14, 9, 10] \n",
            "\n",
            "\t****Encontrada mejor solucion: 4527 [0, 21, 24, 35, 20, 36, 12, 17, 15, 19, 28, 26, 11, 2, 39, 32, 18, 23, 38, 37, 31, 16, 22, 27, 41, 30, 4, 5, 34, 40, 8, 6, 1, 29, 25, 33, 3, 13, 7, 14, 9, 10] \n",
            "\n",
            "\t****Encontrada mejor solucion: 4446 [0, 21, 24, 35, 20, 36, 12, 17, 15, 19, 28, 26, 11, 2, 39, 10, 18, 23, 38, 37, 31, 16, 22, 27, 41, 30, 4, 5, 34, 40, 8, 6, 1, 29, 25, 33, 3, 13, 7, 14, 9, 32] \n",
            "\n",
            "\t****Encontrada mejor solucion: 4280 [0, 7, 9, 35, 20, 36, 12, 14, 15, 19, 28, 26, 11, 2, 17, 10, 21, 23, 8, 37, 31, 16, 13, 27, 41, 30, 4, 5, 34, 22, 39, 6, 1, 29, 25, 33, 3, 40, 18, 38, 24, 32] \n",
            "\n",
            "\t****Encontrada mejor solucion: 4136 [0, 29, 22, 37, 40, 3, 7, 19, 18, 32, 33, 26, 39, 38, 8, 9, 25, 5, 6, 41, 10, 13, 11, 12, 4, 15, 31, 36, 17, 2, 16, 35, 21, 24, 34, 14, 30, 27, 20, 1, 28, 23] \n",
            "\n",
            "\t****Encontrada mejor solucion: 4037 [0, 11, 40, 21, 20, 28, 30, 2, 5, 1, 3, 32, 13, 41, 25, 29, 16, 33, 12, 34, 38, 8, 19, 31, 17, 15, 14, 22, 24, 9, 4, 35, 39, 18, 6, 26, 37, 36, 7, 10, 23, 27] \n",
            "\n",
            "\t****Encontrada mejor solucion: 3954 [0, 17, 36, 33, 16, 10, 24, 29, 6, 12, 1, 26, 25, 38, 30, 9, 41, 35, 19, 23, 18, 13, 14, 4, 32, 28, 37, 7, 2, 27, 40, 39, 22, 3, 31, 5, 11, 21, 8, 15, 20, 34] \n",
            "\n",
            "\t****Encontrada mejor solucion: 3908 [0, 17, 36, 33, 16, 10, 24, 29, 6, 12, 1, 26, 25, 38, 30, 9, 41, 35, 19, 8, 18, 13, 14, 4, 32, 28, 37, 7, 2, 27, 40, 39, 22, 3, 31, 5, 11, 21, 23, 15, 20, 34] \n",
            "\n",
            "\t****Encontrada mejor solucion: 3831 [0, 1, 3, 20, 28, 33, 26, 5, 4, 14, 29, 9, 23, 10, 6, 13, 18, 24, 40, 25, 15, 31, 35, 8, 32, 38, 34, 2, 30, 16, 37, 19, 12, 39, 41, 11, 22, 17, 36, 7, 21, 27] \n",
            "\n",
            "\t****Encontrada mejor solucion: 3793 [0, 15, 17, 35, 32, 16, 19, 13, 5, 39, 40, 29, 2, 28, 3, 27, 34, 38, 20, 36, 41, 23, 31, 22, 12, 14, 18, 1, 10, 37, 33, 11, 25, 4, 6, 30, 26, 9, 21, 24, 8, 7] \n",
            "\n",
            "\t****Encontrada mejor solucion: 3771 [0, 15, 17, 35, 32, 16, 19, 13, 5, 39, 40, 29, 2, 28, 3, 27, 34, 38, 20, 36, 41, 23, 31, 22, 12, 14, 18, 4, 10, 37, 33, 11, 25, 1, 6, 30, 26, 9, 21, 24, 8, 7] \n",
            "\n",
            "\t****Encontrada mejor solucion: 3694 [0, 21, 24, 40, 41, 10, 8, 26, 29, 38, 22, 32, 31, 15, 36, 4, 30, 34, 35, 28, 39, 9, 25, 23, 3, 19, 5, 6, 12, 17, 11, 14, 27, 33, 7, 18, 2, 37, 20, 13, 1, 16] \n",
            "\n",
            "\t****Encontrada mejor solucion: 3457 [0, 34, 14, 36, 37, 27, 26, 23, 40, 13, 6, 18, 19, 16, 5, 30, 32, 33, 20, 29, 9, 22, 7, 2, 10, 25, 41, 11, 12, 4, 15, 1, 31, 17, 35, 21, 38, 8, 3, 28, 39, 24] \n",
            "\n",
            "\t****Encontrada mejor solucion: 3426 [0, 34, 14, 36, 37, 27, 8, 23, 40, 13, 6, 18, 19, 16, 5, 30, 32, 33, 20, 29, 9, 22, 7, 2, 10, 25, 41, 11, 12, 4, 26, 1, 31, 17, 35, 21, 38, 15, 3, 28, 39, 24] \n",
            "\n",
            "\t****Encontrada mejor solucion: 3419 [0, 39, 41, 23, 31, 9, 22, 29, 8, 40, 21, 24, 38, 2, 30, 14, 3, 11, 18, 32, 36, 17, 34, 20, 37, 1, 12, 13, 6, 26, 10, 25, 27, 7, 15, 5, 19, 28, 4, 16, 33, 35] \n",
            "\n",
            "\t****Encontrada mejor solucion: 3344 [0, 19, 41, 10, 25, 9, 22, 29, 8, 40, 21, 24, 38, 2, 30, 14, 3, 11, 18, 32, 36, 17, 34, 20, 37, 1, 12, 13, 6, 26, 23, 39, 27, 7, 15, 5, 31, 28, 4, 16, 33, 35] \n",
            "\n",
            "\t****Encontrada mejor solucion: 3317 [0, 2, 3, 30, 35, 36, 34, 41, 23, 39, 40, 8, 10, 7, 32, 38, 9, 24, 22, 29, 1, 18, 12, 37, 17, 6, 5, 14, 13, 16, 15, 19, 26, 20, 33, 21, 31, 4, 28, 11, 27, 25] \n",
            "\n",
            "\t****Encontrada mejor solucion: 3172 [0, 18, 8, 33, 34, 32, 39, 21, 40, 10, 28, 37, 2, 25, 12, 9, 41, 11, 14, 19, 13, 27, 3, 29, 22, 1, 7, 4, 23, 24, 30, 38, 6, 26, 20, 15, 16, 17, 31, 36, 35, 5] \n",
            "\n",
            "\t****Encontrada mejor solucion: 3115 [0, 28, 9, 24, 11, 12, 10, 26, 1, 3, 6, 18, 19, 35, 36, 34, 30, 32, 5, 16, 20, 33, 38, 2, 22, 41, 27, 40, 21, 23, 39, 29, 14, 15, 17, 31, 37, 13, 4, 25, 8, 7] \n",
            "\n",
            "\t****Encontrada mejor solucion: 3054 [0, 6, 3, 9, 32, 35, 36, 13, 2, 11, 30, 33, 34, 29, 38, 26, 12, 25, 21, 22, 41, 40, 8, 23, 24, 39, 10, 5, 4, 18, 19, 14, 37, 16, 7, 1, 28, 20, 17, 31, 15, 27] \n",
            "\n",
            "\t****Encontrada mejor solucion: 3026 [0, 6, 3, 9, 32, 35, 36, 10, 2, 27, 30, 33, 34, 29, 38, 26, 12, 40, 21, 22, 41, 25, 8, 23, 24, 39, 13, 5, 4, 18, 19, 14, 37, 16, 7, 1, 28, 20, 17, 31, 15, 11] \n",
            "\n",
            "\t****Encontrada mejor solucion: 3007 [0, 35, 36, 17, 31, 20, 33, 14, 16, 15, 25, 32, 2, 9, 22, 8, 30, 34, 28, 3, 5, 4, 11, 12, 10, 18, 37, 6, 19, 7, 29, 40, 23, 27, 1, 13, 26, 41, 39, 38, 24, 21] \n",
            "\n",
            "\t****Encontrada mejor solucion: 3001 [0, 35, 36, 17, 31, 20, 33, 14, 16, 15, 25, 32, 2, 9, 22, 8, 30, 34, 28, 3, 5, 4, 11, 12, 10, 18, 37, 6, 19, 7, 29, 40, 39, 27, 1, 13, 26, 41, 23, 38, 24, 21] \n",
            "\n",
            "\t****Encontrada mejor solucion: 2966 [0, 35, 36, 17, 31, 20, 33, 14, 16, 15, 25, 32, 34, 9, 22, 8, 30, 2, 28, 3, 5, 4, 11, 12, 10, 18, 37, 6, 19, 7, 29, 40, 39, 27, 1, 13, 26, 41, 23, 38, 24, 21] \n",
            "\n",
            "\t****Encontrada mejor solucion: 2891 [0, 35, 36, 17, 31, 20, 33, 14, 16, 15, 27, 32, 34, 9, 22, 8, 30, 2, 28, 3, 5, 4, 11, 12, 10, 18, 37, 6, 19, 7, 29, 40, 39, 25, 1, 13, 26, 41, 23, 38, 24, 21] \n",
            "\n",
            "\t****Encontrada mejor solucion: 2837 [0, 14, 35, 20, 30, 8, 11, 25, 5, 28, 4, 18, 26, 3, 1, 37, 17, 36, 31, 16, 19, 27, 2, 41, 23, 13, 32, 29, 38, 21, 24, 39, 40, 22, 9, 10, 12, 15, 6, 7, 34, 33] \n",
            "\n",
            "\t****Encontrada mejor solucion: 2836 [0, 1, 33, 20, 8, 25, 18, 13, 5, 6, 19, 11, 26, 7, 14, 37, 17, 36, 28, 3, 12, 41, 23, 27, 2, 32, 30, 29, 38, 21, 24, 39, 40, 22, 9, 10, 31, 15, 4, 16, 35, 34] \n",
            "\n",
            "\t****Encontrada mejor solucion: 2812 [0, 5, 6, 9, 8, 12, 4, 16, 17, 15, 33, 7, 31, 37, 19, 13, 14, 20, 32, 29, 22, 30, 28, 27, 2, 3, 1, 34, 38, 21, 24, 39, 40, 11, 18, 26, 10, 23, 25, 41, 36, 35] \n",
            "\n",
            "\t****Encontrada mejor solucion: 2777 [0, 1, 28, 2, 8, 23, 25, 12, 10, 3, 5, 19, 16, 15, 17, 35, 31, 38, 24, 40, 9, 13, 26, 37, 4, 29, 11, 18, 7, 36, 14, 34, 20, 33, 30, 22, 39, 41, 21, 27, 6, 32] \n",
            "\n",
            "\t****Encontrada mejor solucion: 2721 [0, 32, 33, 36, 16, 15, 14, 19, 38, 22, 24, 21, 40, 5, 13, 17, 35, 20, 37, 31, 34, 28, 8, 7, 1, 26, 18, 6, 3, 29, 30, 4, 12, 39, 23, 41, 10, 9, 25, 11, 27, 2] \n",
            "\n",
            "\t****Encontrada mejor solucion: 2633 [0, 33, 34, 31, 17, 32, 4, 1, 8, 9, 22, 24, 21, 40, 39, 38, 13, 3, 10, 41, 23, 26, 5, 7, 15, 14, 36, 35, 20, 29, 12, 11, 25, 6, 28, 30, 18, 37, 19, 16, 2, 27] \n",
            "\n",
            "\t****Encontrada mejor solucion: 2605 [0, 33, 34, 31, 17, 32, 5, 13, 26, 1, 22, 24, 21, 40, 39, 38, 29, 2, 25, 12, 23, 8, 10, 7, 15, 14, 36, 35, 20, 9, 41, 11, 18, 6, 3, 30, 4, 37, 19, 16, 28, 27] \n",
            "\n",
            "\t****Encontrada mejor solucion: 2600 [0, 1, 32, 30, 22, 25, 23, 41, 9, 38, 21, 39, 40, 24, 28, 18, 12, 11, 10, 3, 13, 34, 33, 17, 16, 14, 36, 35, 20, 4, 27, 8, 29, 2, 5, 6, 15, 7, 19, 26, 37, 31] \n",
            "\n",
            "\t****Encontrada mejor solucion: 2589 [0, 1, 32, 30, 22, 25, 23, 41, 9, 38, 21, 39, 40, 24, 28, 10, 12, 11, 18, 3, 13, 34, 33, 17, 16, 14, 36, 35, 20, 4, 27, 8, 29, 2, 5, 6, 15, 7, 19, 26, 37, 31] \n",
            "\n",
            "\t****Encontrada mejor solucion: 2567 [0, 1, 32, 30, 22, 25, 23, 41, 9, 38, 21, 39, 40, 24, 13, 10, 12, 11, 18, 3, 28, 34, 33, 17, 16, 14, 36, 35, 20, 4, 27, 8, 29, 2, 5, 6, 15, 7, 19, 26, 37, 31] \n",
            "\n",
            "\t****Encontrada mejor solucion: 2553 [0, 1, 32, 30, 22, 25, 23, 41, 9, 38, 21, 39, 40, 24, 13, 10, 12, 11, 18, 3, 28, 34, 33, 17, 16, 14, 36, 35, 20, 4, 27, 2, 29, 8, 5, 6, 37, 7, 19, 26, 15, 31] \n",
            "\n",
            "\t****Encontrada mejor solucion: 2549 [0, 1, 27, 30, 22, 11, 23, 41, 9, 38, 21, 39, 40, 24, 25, 10, 18, 13, 5, 6, 28, 34, 15, 17, 16, 14, 36, 35, 20, 33, 32, 2, 29, 8, 4, 3, 37, 7, 19, 12, 26, 31] \n",
            "\n",
            "\t****Encontrada mejor solucion: 2508 [0, 1, 27, 30, 22, 8, 23, 41, 9, 38, 21, 39, 40, 24, 25, 10, 18, 13, 5, 6, 28, 34, 15, 17, 16, 14, 36, 35, 20, 33, 32, 2, 29, 11, 4, 3, 37, 7, 19, 12, 26, 31] \n",
            "\n",
            "\t****Encontrada mejor solucion: 2493 [0, 1, 27, 30, 22, 8, 41, 23, 9, 38, 21, 39, 40, 24, 25, 10, 18, 13, 5, 6, 28, 34, 15, 17, 16, 14, 36, 35, 20, 33, 32, 2, 29, 11, 4, 3, 37, 7, 19, 12, 26, 31] \n",
            "\n",
            "\t****Encontrada mejor solucion: 2488 [0, 29, 27, 38, 22, 8, 41, 23, 9, 30, 21, 39, 40, 24, 25, 10, 18, 13, 5, 26, 6, 37, 15, 17, 16, 14, 36, 35, 20, 33, 28, 2, 1, 11, 4, 32, 34, 7, 19, 12, 3, 31] \n",
            "\n",
            "\t****Encontrada mejor solucion: 2465 [0, 29, 27, 38, 22, 8, 41, 23, 9, 30, 21, 39, 40, 24, 25, 10, 18, 13, 5, 26, 6, 17, 15, 37, 16, 14, 36, 35, 20, 33, 28, 2, 1, 11, 4, 32, 34, 7, 19, 12, 3, 31] \n",
            "\n",
            "\t****Encontrada mejor solucion: 2449 [0, 29, 27, 30, 22, 8, 41, 23, 9, 38, 21, 39, 40, 24, 25, 10, 18, 13, 5, 26, 6, 17, 15, 37, 16, 14, 36, 35, 20, 33, 28, 2, 1, 11, 4, 32, 34, 7, 19, 12, 3, 31] \n",
            "\n",
            "\t****Encontrada mejor solucion: 2425 [0, 30, 29, 38, 22, 1, 6, 4, 8, 41, 40, 21, 39, 24, 9, 23, 27, 13, 37, 16, 7, 15, 31, 35, 36, 32, 17, 33, 34, 20, 2, 28, 18, 12, 11, 5, 25, 10, 26, 19, 14, 3] \n",
            "\n",
            "\t****Encontrada mejor solucion: 2389 [0, 30, 29, 38, 22, 1, 6, 4, 8, 41, 40, 21, 39, 24, 9, 23, 27, 13, 37, 16, 7, 15, 36, 35, 31, 32, 17, 33, 34, 20, 2, 28, 18, 12, 11, 5, 25, 10, 26, 19, 14, 3] \n",
            "\n",
            "\t****Encontrada mejor solucion: 2384 [0, 30, 29, 38, 22, 1, 6, 28, 8, 41, 40, 21, 39, 24, 9, 23, 27, 13, 37, 16, 7, 15, 36, 35, 31, 32, 17, 33, 34, 20, 2, 4, 18, 12, 11, 5, 25, 10, 26, 19, 14, 3] \n",
            "\n",
            "\t****Encontrada mejor solucion: 2381 [0, 27, 29, 38, 22, 4, 28, 3, 10, 25, 40, 21, 39, 24, 9, 8, 2, 13, 7, 16, 37, 15, 36, 35, 31, 32, 30, 33, 34, 20, 17, 1, 18, 12, 11, 5, 23, 41, 26, 19, 14, 6] \n",
            "\n",
            "\t****Encontrada mejor solucion: 2378 [0, 28, 30, 38, 22, 9, 10, 11, 25, 23, 39, 21, 40, 24, 29, 18, 27, 13, 14, 37, 15, 16, 36, 35, 4, 32, 3, 33, 34, 20, 17, 31, 6, 7, 5, 26, 12, 8, 41, 2, 1, 19] \n",
            "\n",
            "\t****Encontrada mejor solucion: 2288 [0, 28, 30, 38, 22, 41, 9, 8, 29, 23, 39, 21, 40, 24, 10, 18, 19, 2, 14, 16, 15, 7, 5, 13, 4, 3, 20, 33, 34, 32, 17, 31, 35, 37, 36, 26, 12, 25, 11, 6, 1, 27] \n",
            "\n",
            "\t****Encontrada mejor solucion: 2263 [0, 28, 30, 38, 22, 41, 10, 8, 23, 29, 39, 21, 40, 24, 9, 18, 3, 2, 14, 16, 15, 1, 5, 13, 26, 19, 20, 33, 34, 32, 37, 31, 35, 17, 36, 7, 11, 25, 12, 6, 4, 27] \n",
            "\n",
            "\t****Encontrada mejor solucion: 2219 [0, 28, 30, 38, 22, 41, 10, 8, 23, 9, 39, 21, 40, 24, 29, 18, 3, 7, 14, 16, 15, 1, 5, 13, 26, 19, 20, 33, 34, 32, 37, 31, 35, 17, 36, 2, 11, 25, 12, 6, 4, 27] \n",
            "\n",
            "\t****Encontrada mejor solucion: 2193 [0, 28, 30, 38, 22, 41, 10, 8, 23, 9, 39, 21, 40, 24, 29, 18, 2, 7, 14, 16, 15, 1, 5, 13, 19, 26, 20, 33, 34, 32, 37, 31, 35, 17, 36, 3, 11, 25, 12, 6, 4, 27] \n",
            "\n",
            "\t****Encontrada mejor solucion: 2179 [0, 28, 30, 38, 22, 41, 10, 8, 23, 9, 39, 21, 40, 24, 29, 18, 2, 7, 14, 16, 15, 1, 5, 13, 19, 26, 20, 33, 34, 32, 37, 31, 35, 17, 36, 6, 11, 25, 12, 3, 4, 27] \n",
            "\n",
            "\t****Encontrada mejor solucion: 2136 [0, 28, 30, 38, 22, 8, 10, 41, 23, 9, 39, 21, 40, 24, 29, 18, 2, 7, 14, 16, 15, 1, 5, 13, 19, 26, 20, 33, 34, 32, 37, 31, 35, 17, 36, 6, 11, 25, 12, 3, 4, 27] \n",
            "\n",
            "\t****Encontrada mejor solucion: 2104 [0, 28, 30, 38, 22, 8, 10, 41, 23, 9, 39, 21, 40, 24, 12, 18, 2, 1, 7, 14, 15, 16, 5, 13, 19, 26, 34, 33, 20, 36, 37, 31, 35, 17, 32, 6, 11, 25, 29, 3, 4, 27] \n",
            "\n",
            "\t****Encontrada mejor solucion: 2089 [0, 30, 28, 38, 22, 39, 8, 29, 23, 9, 40, 24, 21, 41, 25, 18, 10, 1, 7, 6, 5, 19, 13, 3, 2, 20, 34, 33, 35, 36, 17, 37, 16, 15, 14, 26, 12, 11, 31, 32, 27, 4] \n",
            "\n",
            "\t****Encontrada mejor solucion: 2083 [0, 3, 30, 22, 38, 39, 21, 24, 40, 8, 41, 12, 11, 23, 9, 10, 25, 28, 2, 5, 18, 1, 27, 33, 34, 32, 20, 31, 35, 36, 16, 14, 15, 37, 17, 7, 26, 29, 4, 19, 13, 6] \n",
            "\n",
            "\t****Encontrada mejor solucion: 2079 [0, 3, 30, 22, 38, 39, 21, 24, 40, 8, 41, 12, 11, 23, 9, 10, 25, 28, 2, 5, 18, 1, 27, 33, 34, 32, 20, 31, 35, 36, 16, 14, 15, 37, 17, 7, 26, 29, 4, 13, 19, 6] \n",
            "\n",
            "\t****Encontrada mejor solucion: 2078 [0, 3, 30, 22, 38, 39, 21, 24, 40, 8, 41, 12, 11, 23, 9, 10, 25, 28, 2, 5, 18, 1, 27, 34, 33, 32, 20, 31, 35, 36, 16, 14, 15, 37, 17, 7, 26, 29, 4, 13, 19, 6] \n",
            "\n",
            "\t****Encontrada mejor solucion: 2071 [0, 3, 30, 22, 38, 39, 21, 24, 40, 8, 25, 12, 11, 23, 9, 10, 41, 28, 2, 5, 18, 1, 27, 34, 33, 32, 20, 35, 36, 31, 16, 14, 15, 37, 17, 7, 26, 29, 4, 13, 19, 6] \n",
            "\n",
            "\t****Encontrada mejor solucion: 2045 [0, 3, 29, 22, 38, 39, 21, 24, 40, 10, 25, 12, 11, 23, 9, 8, 41, 28, 30, 5, 18, 1, 7, 34, 33, 32, 20, 35, 36, 31, 15, 14, 16, 37, 17, 27, 2, 26, 4, 13, 19, 6] \n",
            "\n",
            "\t****Encontrada mejor solucion: 2036 [0, 3, 29, 22, 38, 39, 21, 24, 40, 10, 25, 12, 11, 23, 9, 8, 41, 28, 30, 27, 18, 1, 17, 34, 33, 32, 20, 35, 36, 31, 15, 14, 16, 37, 7, 5, 13, 26, 4, 2, 19, 6] \n",
            "\n",
            "\t****Encontrada mejor solucion: 2029 [0, 27, 29, 22, 38, 39, 21, 24, 40, 10, 25, 12, 11, 23, 9, 8, 41, 28, 30, 2, 18, 1, 17, 34, 32, 33, 20, 36, 35, 31, 15, 14, 16, 37, 7, 5, 13, 26, 4, 6, 19, 3] \n",
            "\n",
            "\t****Encontrada mejor solucion: 2025 [0, 27, 29, 22, 38, 39, 21, 24, 40, 10, 25, 12, 11, 23, 9, 8, 41, 28, 30, 2, 18, 1, 17, 34, 32, 33, 20, 36, 35, 31, 15, 14, 16, 37, 7, 13, 5, 26, 4, 6, 19, 3] \n",
            "\n",
            "\t****Encontrada mejor solucion: 1995 [0, 27, 29, 22, 38, 39, 24, 21, 40, 10, 25, 12, 11, 23, 9, 8, 41, 28, 30, 2, 18, 1, 17, 32, 34, 33, 20, 36, 35, 31, 15, 14, 7, 37, 16, 13, 5, 26, 4, 6, 19, 3] \n",
            "\n",
            "\t****Encontrada mejor solucion: 1987 [0, 27, 29, 22, 38, 39, 24, 21, 40, 10, 25, 12, 11, 23, 9, 8, 41, 28, 30, 2, 18, 1, 17, 32, 34, 33, 20, 36, 35, 31, 15, 14, 19, 37, 16, 13, 5, 26, 4, 6, 7, 3] \n",
            "\n",
            "\t****Encontrada mejor solucion: 1977 [0, 27, 18, 22, 38, 39, 24, 21, 40, 10, 25, 12, 11, 8, 9, 23, 41, 28, 30, 29, 2, 1, 17, 32, 34, 33, 20, 36, 35, 31, 19, 14, 15, 37, 16, 13, 5, 26, 4, 6, 7, 3] \n",
            "\n",
            "\t****Encontrada mejor solucion: 1949 [0, 27, 18, 22, 38, 39, 24, 21, 40, 8, 25, 12, 11, 10, 9, 23, 41, 28, 30, 29, 2, 1, 17, 32, 34, 33, 20, 36, 35, 31, 19, 14, 15, 37, 16, 13, 5, 26, 6, 4, 3, 7] \n",
            "\n",
            "\t****Encontrada mejor solucion: 1940 [0, 27, 30, 22, 38, 39, 24, 21, 40, 8, 25, 12, 11, 10, 9, 23, 41, 18, 28, 29, 2, 1, 32, 17, 34, 33, 20, 36, 35, 31, 19, 13, 15, 37, 16, 14, 5, 26, 6, 4, 3, 7] \n",
            "\n",
            "\t****Encontrada mejor solucion: 1930 [0, 3, 30, 38, 22, 39, 21, 40, 24, 23, 25, 12, 11, 10, 41, 9, 8, 2, 28, 29, 18, 1, 32, 4, 20, 33, 34, 31, 35, 36, 17, 13, 19, 37, 16, 15, 7, 14, 5, 26, 6, 27] \n",
            "\n",
            "\t****Encontrada mejor solucion: 1911 [0, 32, 30, 38, 22, 39, 21, 40, 24, 41, 25, 10, 11, 12, 23, 9, 8, 2, 28, 3, 29, 18, 4, 6, 20, 33, 34, 31, 35, 36, 17, 16, 7, 37, 13, 19, 15, 14, 5, 26, 1, 27] \n",
            "\n",
            "\t****Encontrada mejor solucion: 1883 [0, 32, 30, 38, 22, 39, 21, 40, 24, 41, 25, 10, 11, 12, 23, 9, 8, 2, 28, 3, 29, 18, 4, 6, 20, 33, 34, 31, 35, 36, 17, 15, 7, 37, 13, 19, 16, 14, 5, 26, 1, 27] \n",
            "\n",
            "\t****Encontrada mejor solucion: 1875 [0, 32, 30, 38, 22, 39, 21, 40, 24, 41, 10, 25, 11, 12, 23, 9, 8, 2, 28, 3, 29, 18, 4, 6, 20, 33, 34, 31, 35, 36, 17, 15, 7, 37, 13, 19, 16, 14, 5, 26, 1, 27] \n",
            "\n",
            "\t****Encontrada mejor solucion: 1847 [0, 32, 30, 38, 22, 39, 21, 40, 24, 41, 10, 25, 11, 12, 23, 9, 8, 2, 18, 3, 29, 28, 4, 27, 20, 33, 34, 31, 35, 36, 17, 15, 7, 37, 13, 19, 16, 14, 5, 26, 1, 6] \n",
            "\n",
            "\t****Encontrada mejor solucion: 1817 [0, 34, 33, 38, 22, 39, 24, 40, 21, 41, 25, 11, 12, 10, 23, 9, 8, 29, 2, 4, 1, 20, 30, 27, 28, 3, 32, 31, 35, 36, 17, 37, 7, 15, 19, 14, 16, 13, 18, 26, 5, 6] \n",
            "\n",
            "\t****Encontrada mejor solucion: 1801 [0, 34, 33, 38, 22, 39, 24, 40, 21, 41, 25, 11, 12, 10, 23, 9, 8, 27, 2, 4, 1, 20, 30, 29, 28, 3, 32, 31, 36, 35, 17, 37, 7, 15, 19, 14, 16, 13, 18, 26, 5, 6] \n",
            "\n",
            "\t****Encontrada mejor solucion: 1800 [0, 34, 33, 38, 22, 39, 21, 40, 24, 9, 41, 23, 12, 11, 25, 10, 8, 29, 30, 28, 2, 27, 37, 16, 7, 32, 20, 36, 35, 31, 17, 14, 15, 5, 13, 19, 1, 6, 4, 26, 18, 3] \n",
            "\n",
            "\t****Encontrada mejor solucion: 1777 [0, 34, 33, 38, 22, 39, 24, 40, 21, 9, 41, 23, 12, 11, 25, 10, 8, 29, 30, 28, 27, 2, 37, 14, 7, 32, 20, 35, 36, 31, 17, 16, 15, 5, 13, 19, 4, 6, 1, 26, 18, 3] \n",
            "\n",
            "\t****Encontrada mejor solucion: 1739 [0, 32, 34, 38, 22, 39, 24, 40, 21, 23, 41, 9, 11, 12, 25, 10, 8, 29, 30, 28, 6, 14, 16, 15, 37, 33, 20, 35, 36, 17, 31, 7, 1, 13, 19, 5, 18, 27, 2, 26, 4, 3] \n",
            "\n",
            "\t****Encontrada mejor solucion: 1728 [0, 32, 34, 38, 22, 39, 24, 40, 21, 23, 41, 10, 11, 12, 25, 9, 8, 29, 30, 28, 6, 14, 16, 15, 37, 33, 20, 35, 36, 17, 31, 7, 1, 13, 19, 5, 18, 27, 2, 26, 4, 3] \n",
            "\n",
            "\t****Encontrada mejor solucion: 1701 [0, 32, 34, 38, 22, 39, 24, 40, 21, 23, 41, 10, 11, 12, 25, 9, 8, 29, 30, 28, 6, 14, 15, 16, 37, 33, 20, 35, 36, 17, 31, 7, 1, 13, 19, 5, 18, 26, 2, 4, 3, 27] \n",
            "\n",
            "\t****Encontrada mejor solucion: 1700 [0, 32, 34, 38, 22, 39, 24, 40, 21, 23, 41, 10, 11, 12, 25, 9, 8, 29, 30, 28, 6, 14, 15, 16, 31, 33, 20, 35, 36, 17, 37, 7, 1, 13, 19, 5, 18, 26, 2, 4, 3, 27] \n",
            "\n",
            "\t****Encontrada mejor solucion: 1693 [0, 32, 34, 38, 22, 39, 24, 40, 21, 23, 41, 10, 11, 12, 25, 9, 8, 29, 30, 28, 13, 14, 15, 16, 31, 33, 20, 35, 36, 17, 37, 7, 1, 6, 19, 5, 18, 26, 4, 3, 2, 27] \n",
            "\n",
            "\t****Encontrada mejor solucion: 1682 [0, 32, 34, 38, 22, 21, 39, 24, 40, 23, 41, 12, 11, 25, 10, 9, 8, 29, 30, 13, 19, 16, 14, 15, 37, 20, 33, 35, 36, 31, 17, 7, 1, 18, 26, 5, 6, 3, 4, 27, 28, 2] \n",
            "\n",
            "\t****Encontrada mejor solucion: 1642 [0, 32, 34, 38, 22, 39, 21, 24, 40, 23, 41, 12, 11, 25, 10, 9, 8, 29, 30, 13, 19, 16, 14, 15, 37, 20, 33, 35, 36, 31, 17, 7, 1, 18, 26, 5, 6, 3, 4, 27, 28, 2] \n",
            "\n",
            "\t****Encontrada mejor solucion: 1624 [0, 32, 34, 38, 22, 39, 21, 24, 40, 23, 41, 25, 11, 12, 10, 9, 8, 29, 30, 13, 19, 16, 14, 15, 37, 20, 33, 35, 36, 31, 17, 7, 1, 18, 26, 5, 6, 3, 4, 27, 28, 2] \n",
            "\n",
            "\t****Encontrada mejor solucion: 1609 [0, 32, 34, 38, 22, 39, 21, 24, 40, 23, 41, 25, 11, 12, 10, 8, 9, 29, 30, 13, 19, 16, 14, 15, 37, 20, 33, 35, 36, 31, 17, 7, 1, 18, 26, 5, 6, 3, 4, 27, 28, 2] \n",
            "\n",
            "\t****Encontrada mejor solucion: 1602 [0, 32, 34, 38, 22, 39, 21, 24, 40, 23, 41, 25, 11, 12, 10, 8, 9, 29, 30, 1, 7, 16, 14, 15, 37, 20, 33, 35, 36, 31, 17, 19, 13, 18, 26, 5, 6, 3, 4, 27, 28, 2] \n",
            "\n",
            "\t****Encontrada mejor solucion: 1601 [0, 32, 34, 38, 22, 39, 21, 24, 40, 23, 41, 25, 11, 12, 10, 8, 9, 29, 30, 28, 15, 16, 14, 37, 7, 20, 33, 35, 36, 31, 17, 19, 13, 5, 18, 26, 6, 1, 4, 3, 27, 2] \n",
            "\n",
            "\t****Encontrada mejor solucion: 1595 [0, 32, 34, 38, 22, 39, 21, 24, 40, 23, 41, 25, 11, 12, 10, 8, 9, 29, 30, 28, 16, 14, 15, 37, 7, 20, 33, 35, 36, 31, 17, 19, 13, 5, 18, 26, 6, 1, 4, 3, 27, 2] \n",
            "\n",
            "\t****Encontrada mejor solucion: 1584 [0, 32, 34, 38, 22, 39, 21, 24, 40, 23, 41, 25, 11, 12, 10, 8, 9, 29, 30, 28, 7, 14, 15, 37, 17, 20, 33, 35, 36, 31, 16, 19, 13, 5, 18, 26, 6, 3, 2, 27, 4, 1] \n",
            "\n",
            "\t****Encontrada mejor solucion: 1583 [0, 32, 34, 38, 22, 39, 21, 24, 40, 23, 41, 25, 11, 12, 10, 8, 9, 29, 30, 28, 7, 14, 15, 37, 17, 20, 33, 35, 36, 31, 16, 19, 13, 5, 18, 26, 6, 3, 27, 2, 4, 1] \n",
            "\n",
            "\t****Encontrada mejor solucion: 1573 [0, 32, 34, 38, 22, 39, 21, 24, 40, 23, 41, 12, 11, 25, 10, 8, 9, 29, 30, 28, 16, 14, 15, 37, 17, 31, 20, 33, 35, 36, 7, 19, 13, 5, 18, 26, 6, 4, 2, 27, 3, 1] \n",
            "\n",
            "\t****Encontrada mejor solucion: 1561 [0, 32, 34, 38, 22, 39, 21, 24, 40, 23, 41, 25, 11, 12, 10, 8, 9, 29, 30, 28, 16, 14, 15, 37, 17, 31, 20, 33, 35, 36, 7, 19, 13, 26, 18, 5, 6, 4, 2, 27, 3, 1] \n",
            "\n",
            "\t****Encontrada mejor solucion: 1551 [0, 32, 34, 38, 22, 39, 21, 24, 40, 23, 41, 25, 11, 12, 10, 8, 9, 29, 30, 28, 7, 15, 14, 37, 17, 31, 20, 33, 35, 36, 16, 19, 13, 26, 18, 5, 6, 4, 2, 27, 3, 1] \n",
            "\n",
            "\t****Encontrada mejor solucion: 1545 [0, 32, 34, 38, 22, 39, 21, 24, 40, 23, 41, 25, 11, 12, 10, 8, 9, 29, 30, 28, 7, 15, 14, 37, 17, 31, 20, 33, 35, 36, 16, 19, 13, 5, 18, 26, 6, 4, 2, 27, 3, 1] \n",
            "\n",
            "\t****Encontrada mejor solucion: 1542 [0, 32, 34, 38, 22, 39, 21, 24, 40, 23, 41, 25, 11, 12, 10, 8, 9, 29, 30, 28, 7, 15, 14, 37, 17, 31, 20, 33, 35, 36, 16, 19, 13, 5, 26, 18, 6, 4, 2, 27, 3, 1] \n",
            "\n",
            "\t****Encontrada mejor solucion: 1540 [0, 32, 34, 38, 22, 39, 21, 24, 40, 23, 41, 25, 11, 12, 10, 8, 9, 29, 30, 28, 7, 16, 15, 37, 17, 31, 20, 33, 35, 36, 14, 19, 13, 5, 26, 18, 6, 4, 3, 27, 2, 1] \n",
            "\n",
            "\t****Encontrada mejor solucion: 1537 [0, 32, 34, 38, 22, 39, 21, 24, 40, 23, 41, 25, 11, 12, 10, 8, 9, 29, 30, 28, 7, 14, 15, 37, 17, 31, 20, 33, 35, 36, 16, 19, 13, 5, 26, 18, 4, 3, 2, 27, 6, 1] \n",
            "\n",
            "\t****Encontrada mejor solucion: 1536 [0, 32, 34, 38, 22, 39, 21, 24, 40, 23, 41, 25, 11, 12, 10, 8, 9, 29, 30, 28, 7, 14, 15, 37, 17, 31, 20, 33, 35, 36, 16, 19, 13, 5, 26, 18, 4, 3, 27, 2, 6, 1] \n",
            "\n",
            "\t****Encontrada mejor solucion: 1533 [0, 32, 34, 38, 22, 39, 21, 24, 40, 23, 41, 25, 11, 12, 10, 8, 9, 29, 30, 28, 7, 14, 15, 37, 17, 31, 20, 33, 35, 36, 16, 19, 13, 5, 26, 18, 4, 2, 27, 3, 6, 1] \n",
            "\n",
            "La mejor solución encontrada es : 1533 [0, 32, 34, 38, 22, 39, 21, 24, 40, 23, 41, 25, 11, 12, 10, 8, 9, 29, 30, 28, 7, 14, 15, 37, 17, 31, 20, 33, 35, 36, 16, 19, 13, 5, 26, 18, 4, 2, 27, 3, 6, 1]\n"
          ],
          "name": "stdout"
        }
      ]
    },
    {
      "cell_type": "markdown",
      "metadata": {
        "id": "PRFnEprt-qXw",
        "colab_type": "text"
      },
      "source": [
        "Colonia Hormigas\n"
      ]
    },
    {
      "cell_type": "code",
      "metadata": {
        "id": "QfM0Cz8ZAxeu",
        "colab_type": "code",
        "colab": {}
      },
      "source": [
        "def Add_Nodo(problem, H ,T ) :\n",
        "  #Establecer una una funcion de probabilidad para \n",
        "  # añadir un nuevo nodo dependiendo de los nodos mas cercanos y de las feromonas depositadas\n",
        "  Nodos = list(problem.get_nodes())\n",
        "  return random.choice(   list(set(range(1,len(Nodos))) - set(H) )  )\n",
        "\n",
        "\n",
        "def Incrementa_Feromona(problem, T, H):\n",
        "  #Incrementar segun la calidad de la solución. Añadir una cantidad inversamente proporcional a la distancia total \n",
        "  for i in range(len(H)-1):\n",
        "    T[H[i]][H[i+1]] += 1000/distancia_total(H, problem)\n",
        "  return T\n",
        "\n",
        "def Evaporar_Feromonas(T):\n",
        "  #Podemos elegir diferentes funciones de evaporación dependiendo de la cantidad actual y de la suma total de feromonas depositadas,...\n",
        "  #Evapora 0.3 el valor de la feromona, sin que baje de 1\n",
        "  T = [[ max(T[i][j] - 0.3 , 1) for i in range(len(Nodos)) ] for j in range(len(Nodos))]\n",
        "  return T"
      ],
      "execution_count": 0,
      "outputs": []
    },
    {
      "cell_type": "code",
      "metadata": {
        "id": "nwTSNdLQ-tL0",
        "colab_type": "code",
        "colab": {}
      },
      "source": [
        "def hormigas(problem, N) :\n",
        "  #problem = datos del problema\n",
        "  #N = Número de agentes(hormigas)\n",
        "    \n",
        "  #Nodos\n",
        "  Nodos = list(problem.get_nodes())\n",
        "    #Aristas\n",
        "  Aristas = list(problem.get_edges()) \n",
        "  \n",
        "  #Inicializa las aristas con una cantidad inicial de feromonas:1\n",
        "  T = [[ 1 for _ in range(len(Nodos)) ] for _ in range(len(Nodos))]\n",
        "  \n",
        "  #Se generan los agentes(hormigas) que serán estructuras de caminos desde 0\n",
        "  Hormiga = [[0] for _ in range(N)]\n",
        "  #Recorre cada agente construyendo la solución\n",
        "  for h in range(N) :\n",
        "    #print(\"\\nAgente:\", h)\n",
        "    #Para cada agente se construye un camino\n",
        "    for i in range(len(Nodos)-1) :\n",
        "      \n",
        "      #Elige el siguiente nodo\n",
        "      Nuevo_Nodo = Add_Nodo(problem, Hormiga[h] ,T )\n",
        "      \n",
        "      Hormiga[h].append(Nuevo_Nodo)     \n",
        "    \n",
        "    #Incrementa feromonas en esa arista \n",
        "    T = Incrementa_Feromona(problem, T, Hormiga[h] )\n",
        "    #print(\"Feromonas(1)\", T)\n",
        "      \n",
        "    #Evapora Feromonas  \n",
        "    T = Evaporar_Feromonas(T)\n",
        "    #print(\"Feromonas(2)\", T)\n",
        "\n",
        "    #Seleccionamos el mejor agente\n",
        "  mejor_solucion = []\n",
        "  mejor_distancia = 10e100\n",
        "  for h in range(N) :\n",
        "    distancia_actual = distancia_total(Hormiga[h], problem)\n",
        "    if distancia_actual < mejor_distancia:\n",
        "      mejor_solucion = Hormiga[h]\n",
        "      mejor_distancia =distancia_actual\n",
        "  \n",
        "  \n",
        "  print(mejor_solucion)\n",
        "  print(mejor_distancia)"
      ],
      "execution_count": 0,
      "outputs": []
    },
    {
      "cell_type": "code",
      "metadata": {
        "id": "HPnGb5llA9st",
        "colab_type": "code",
        "colab": {
          "base_uri": "https://localhost:8080/",
          "height": 71
        },
        "outputId": "3398ecf1-b89e-4030-c71e-7f10de6c7f95"
      },
      "source": [
        "hormigas(problem,1000)"
      ],
      "execution_count": 75,
      "outputs": [
        {
          "output_type": "stream",
          "text": [
            "[0, 2, 20, 37, 34, 16, 5, 10, 12, 24, 28, 7, 8, 23, 26, 17, 6, 33, 38, 21, 29, 39, 22, 41, 30, 4, 32, 31, 36, 35, 14, 1, 3, 40, 25, 11, 19, 9, 18, 27, 13, 15]\n",
            "3799\n"
          ],
          "name": "stdout"
        }
      ]
    }
  ]
}