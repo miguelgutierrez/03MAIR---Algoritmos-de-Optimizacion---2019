{
  "nbformat": 4,
  "nbformat_minor": 0,
  "metadata": {
    "colab": {
      "name": "Copia de Miguel Gutierrez - AG3.ipynb",
      "provenance": [],
      "collapsed_sections": [],
      "authorship_tag": "ABX9TyNlESWAQuMGXBpC3eStkMff",
      "include_colab_link": true
    },
    "kernelspec": {
      "name": "python3",
      "display_name": "Python 3"
    }
  },
  "cells": [
    {
      "cell_type": "markdown",
      "metadata": {
        "id": "view-in-github",
        "colab_type": "text"
      },
      "source": [
        "<a href=\"https://colab.research.google.com/github/miguelgutierrez/03MAIR---Algoritmos-de-Optimizacion---2019/blob/master/Copia_de_Miguel_Gutierrez_AG3.ipynb\" target=\"_parent\"><img src=\"https://colab.research.google.com/assets/colab-badge.svg\" alt=\"Open In Colab\"/></a>"
      ]
    },
    {
      "cell_type": "markdown",
      "metadata": {
        "id": "c5P2UqnGpegG",
        "colab_type": "text"
      },
      "source": [
        "Actividad Guiada - AG3 <br> \n",
        "Miguel Gutiérrez <br>\n",
        "Url: https://colab.research.google.com/drive/1MOv3B7Ha0lclJ3cs_FDCCoaYZqIUmcP1\n",
        "\n"
      ]
    },
    {
      "cell_type": "code",
      "metadata": {
        "id": "_pO1J8X3p04i",
        "colab_type": "code",
        "outputId": "729e17a5-df4a-41e0-a93e-f877a548a1ee",
        "colab": {
          "base_uri": "https://localhost:8080/",
          "height": 564
        }
      },
      "source": [
        "!pip install request\n",
        "import urllib.request\n",
        "\n",
        "file = \"swiss42.tsp\"\n",
        "\n",
        "urllib.request.urlretrieve(\"http://elib.zib.de/pub/mp-testdata/tsp/tsplib/tsp/swiss42.tsp\", file)\n"
      ],
      "execution_count": 1,
      "outputs": [
        {
          "output_type": "stream",
          "text": [
            "Collecting request\n",
            "  Downloading https://files.pythonhosted.org/packages/f1/27/7cbde262d854aedf217061a97020d66a63163c5c04e0ec02ff98c5d8f44e/request-2019.4.13.tar.gz\n",
            "Collecting get\n",
            "  Downloading https://files.pythonhosted.org/packages/3f/ef/bb46f77f7220ac1b7edba0c76d810c89fddb24ddd8c08f337b9b4a618db7/get-2019.4.13.tar.gz\n",
            "Collecting post\n",
            "  Downloading https://files.pythonhosted.org/packages/0f/05/bd79da5849ea6a92485ed7029ef97b1b75e55c26bc0ed3a7ec769af666f3/post-2019.4.13.tar.gz\n",
            "Requirement already satisfied: setuptools in /usr/local/lib/python3.6/dist-packages (from request) (42.0.2)\n",
            "Collecting query_string\n",
            "  Downloading https://files.pythonhosted.org/packages/12/3c/412a45daf5bea9b1d06d7de41787ec4168001dfa418db7ec8723356b119f/query-string-2019.4.13.tar.gz\n",
            "Collecting public\n",
            "  Downloading https://files.pythonhosted.org/packages/54/4d/b40004cc6c07665e48af22cfe1e631f219bf4282e15fa76a5b6364f6885c/public-2019.4.13.tar.gz\n",
            "Building wheels for collected packages: request, get, post, query-string, public\n",
            "  Building wheel for request (setup.py) ... \u001b[?25l\u001b[?25hdone\n",
            "  Created wheel for request: filename=request-2019.4.13-cp36-none-any.whl size=1676 sha256=266608de2a955579d8328d42f73a4afae3cd786850fdf65e69d7f20de9537058\n",
            "  Stored in directory: /root/.cache/pip/wheels/30/84/5f/484cfba678967ef58c16fce6890925d5c7172622f20111fbfd\n",
            "  Building wheel for get (setup.py) ... \u001b[?25l\u001b[?25hdone\n",
            "  Created wheel for get: filename=get-2019.4.13-cp36-none-any.whl size=1692 sha256=b601b022d582fb58c9d59008eb2938f4d6a60f251dde1c2ac1771adf62921104\n",
            "  Stored in directory: /root/.cache/pip/wheels/c1/e3/c1/d02c8c58538853e4c9b78cadb74f6d5c5c370b48a69a7271aa\n",
            "  Building wheel for post (setup.py) ... \u001b[?25l\u001b[?25hdone\n",
            "  Created wheel for post: filename=post-2019.4.13-cp36-none-any.whl size=1661 sha256=149041bfd021f3c0640d95f71bf3f47c2201b15e56554a15ef149e60d49846df\n",
            "  Stored in directory: /root/.cache/pip/wheels/c3/c3/24/b5c132b537ab380c02d69e6bd4dec1f5db56b5fe19030473d7\n",
            "  Building wheel for query-string (setup.py) ... \u001b[?25l\u001b[?25hdone\n",
            "  Created wheel for query-string: filename=query_string-2019.4.13-cp36-none-any.whl size=2049 sha256=61cfe8d9c8013d183c829eaf6c32be38606814a932f0e6e3f4b15346ec319408\n",
            "  Stored in directory: /root/.cache/pip/wheels/d6/a4/78/01b20a9dc224dcc009fab669f7f27b943b8889c5150bd68d8a\n",
            "  Building wheel for public (setup.py) ... \u001b[?25l\u001b[?25hdone\n",
            "  Created wheel for public: filename=public-2019.4.13-cp36-none-any.whl size=2536 sha256=8a05274ce79ff3006584dbbf7673cfdce428092217cbe357d2eff5f7e05fc7ee\n",
            "  Stored in directory: /root/.cache/pip/wheels/23/7c/6e/f5b4e09d6596c8b8802b347e48f149031e2363368048f1347a\n",
            "Successfully built request get post query-string public\n",
            "Installing collected packages: public, query-string, get, post, request\n",
            "Successfully installed get-2019.4.13 post-2019.4.13 public-2019.4.13 query-string-2019.4.13 request-2019.4.13\n"
          ],
          "name": "stdout"
        },
        {
          "output_type": "execute_result",
          "data": {
            "text/plain": [
              "('swiss42.tsp', <http.client.HTTPMessage at 0x7f837a9e7780>)"
            ]
          },
          "metadata": {
            "tags": []
          },
          "execution_count": 1
        }
      ]
    },
    {
      "cell_type": "code",
      "metadata": {
        "id": "p0DK_nSOsNwb",
        "colab_type": "code",
        "outputId": "c8c29495-7c38-44b9-8073-bbb2681306cd",
        "colab": {
          "base_uri": "https://localhost:8080/",
          "height": 156
        }
      },
      "source": [
        "#https://tsplib95.readthedocs.io/installation.html\n",
        "!pip install tsplib95\n",
        "\n",
        "import tsplib95\n",
        "import random\n",
        "import math"
      ],
      "execution_count": 2,
      "outputs": [
        {
          "output_type": "stream",
          "text": [
            "Collecting tsplib95\n",
            "  Downloading https://files.pythonhosted.org/packages/dc/43/039c0621085202f19d6c12b06330bf109743083ce4024137b4713da9c40b/tsplib95-0.6.1-py2.py3-none-any.whl\n",
            "Requirement already satisfied: Click>=6.0 in /usr/local/lib/python3.6/dist-packages (from tsplib95) (7.0)\n",
            "Requirement already satisfied: networkx~=2.1 in /usr/local/lib/python3.6/dist-packages (from tsplib95) (2.4)\n",
            "Requirement already satisfied: decorator>=4.3.0 in /usr/local/lib/python3.6/dist-packages (from networkx~=2.1->tsplib95) (4.4.1)\n",
            "Installing collected packages: tsplib95\n",
            "Successfully installed tsplib95-0.6.1\n"
          ],
          "name": "stdout"
        }
      ]
    },
    {
      "cell_type": "code",
      "metadata": {
        "id": "eKZZo0kTuVJK",
        "colab_type": "code",
        "colab": {}
      },
      "source": [
        "problem = tsplib95.load_problem(file)\n",
        "\n",
        "#Nodos\n",
        "Nodos = list(problem.get_nodes())\n",
        "#print(Nodos)\n",
        "\n",
        "#Aristas\n",
        "Aristas = list(problem.get_edges())\n",
        "#print(Aristas)\n"
      ],
      "execution_count": 0,
      "outputs": []
    },
    {
      "cell_type": "code",
      "metadata": {
        "id": "F1_P-rwssijT",
        "colab_type": "code",
        "colab": {}
      },
      "source": [
        "#Se genera una solucion aleatoria con comienzo en en el nodo 0\n",
        "def crear_solucion(Nodos): \n",
        "  solucion = [0]\n",
        "  for i in range(len(Nodos)-1):\n",
        "    solucion = solucion + [random.choice(list(set(Nodos) - set(solucion)))]\n",
        "  return solucion  \n",
        "\n",
        "#Devuelve la distancia entre dos nodos\n",
        "def distancia(a,b, problem):\n",
        "  return problem.wfunc(a,b)"
      ],
      "execution_count": 0,
      "outputs": []
    },
    {
      "cell_type": "code",
      "metadata": {
        "id": "zMgyo7oiuy_m",
        "colab_type": "code",
        "outputId": "68bcd6b5-89ac-4472-81d6-677676d853db",
        "colab": {
          "base_uri": "https://localhost:8080/",
          "height": 34
        }
      },
      "source": [
        "#Devuelve la distancia total de una trayectoria\n",
        "def distancia_total(solucion, problem):\n",
        "  distancia_total = 0\n",
        "  for i in range(len(solucion)-1):\n",
        "    distancia_total += distancia(solucion[i] ,solucion[i+1] ,  problem)\n",
        "  return distancia_total + distancia(solucion[len(solucion)-1] ,solucion[0], problem)\n",
        " \n",
        "solucion = crear_solucion(Nodos)\n",
        "distancia_total(solucion,problem)\n"
      ],
      "execution_count": 5,
      "outputs": [
        {
          "output_type": "execute_result",
          "data": {
            "text/plain": [
              "4922"
            ]
          },
          "metadata": {
            "tags": []
          },
          "execution_count": 5
        }
      ]
    },
    {
      "cell_type": "markdown",
      "metadata": {
        "id": "F3ncUblTuCGH",
        "colab_type": "text"
      },
      "source": [
        "**Búsqueda aleatoria**"
      ]
    },
    {
      "cell_type": "code",
      "metadata": {
        "id": "P5Z4GuK4vdPb",
        "colab_type": "code",
        "outputId": "38397115-410f-4c1f-b189-4eea91c49741",
        "colab": {
          "base_uri": "https://localhost:8080/",
          "height": 54
        }
      },
      "source": [
        "#Busqueda aleatorio\n",
        "def busqueda_aleatoria(problem, N):\n",
        "  mejor_solucion = crear_solucion(Nodos)\n",
        "  mejor_valor    = distancia_total(mejor_solucion, problem)\n",
        "\n",
        "  for i in range(N):\n",
        "      solucion = crear_solucion(Nodos)\n",
        "      valor    = distancia_total(solucion, problem)\n",
        "      if valor < mejor_valor:\n",
        "        mejor_solucion = solucion\n",
        "        mejor_valor = valor\n",
        "\n",
        "  print(\"Búsqueda aleatoria. La mejor solucion es \",mejor_valor,  mejor_solucion)\n",
        "   \n",
        "busqueda_aleatoria(problem, 20000)\n"
      ],
      "execution_count": 6,
      "outputs": [
        {
          "output_type": "stream",
          "text": [
            "Búsqueda aleatoria. La mejor solucion es  3624 [0, 33, 20, 13, 10, 17, 35, 34, 30, 36, 31, 18, 2, 4, 9, 8, 38, 23, 24, 40, 3, 15, 37, 26, 19, 1, 11, 16, 14, 25, 6, 32, 22, 29, 39, 21, 28, 12, 5, 41, 27, 7]\n"
          ],
          "name": "stdout"
        }
      ]
    },
    {
      "cell_type": "markdown",
      "metadata": {
        "id": "1V7lG3bMt47j",
        "colab_type": "text"
      },
      "source": [
        "**Búsqueda local. Generador de vecindad**"
      ]
    },
    {
      "cell_type": "code",
      "metadata": {
        "id": "WcvZXqrDxTlC",
        "colab_type": "code",
        "colab": {}
      },
      "source": [
        "def genera_vecina(solucion):\n",
        "  #Generador de soluciones vecinas: 2-opt (intercambiar 2 nodos) Si hay N nodos se generan (N-1)x(N-2)/2 soluciones\n",
        "  #print(solucion)\n",
        "  mejor_solucion = []\n",
        "  mejor_distancia = 10e100\n",
        "  for i in range(1,len(solucion)-1):\n",
        "    for j in range(i+1, len(solucion)):\n",
        "      vecina = solucion[:i] + [solucion[j]] + solucion[i+1:j] + [solucion[i]] + solucion[j+1:] \n",
        "      distancia_vecina = distancia_total(vecina, problem)\n",
        "      if distancia_vecina <= mejor_distancia:\n",
        "        mejor_distancia = distancia_vecina\n",
        "        mejor_solucion = vecina\n",
        "  return mejor_solucion\n",
        "      \n",
        "solucion = crear_solucion(Nodos)\n",
        "mejor_solucion = genera_vecina(solucion)"
      ],
      "execution_count": 0,
      "outputs": []
    },
    {
      "cell_type": "code",
      "metadata": {
        "id": "Sa2OlPGqvcjB",
        "colab_type": "code",
        "colab": {}
      },
      "source": [
        "#####################################################################\n",
        "def busqueda_local(problem, N):\n",
        "  #problem = datos del problema\n",
        "  #N = numero de iteraciones\n",
        "  \n",
        "  mejor_solucion = []\n",
        "  mejor_distancia = 10e100\n",
        "  \n",
        "  solucion_referencia = crear_solucion(Nodos)\n",
        "  \n",
        "  for i in range(N):\n",
        "    vecina = genera_vecina(solucion_referencia)\n",
        "    distancia_vecina = distancia_total(vecina, problem)\n",
        "    if distancia_vecina <= mejor_distancia:\n",
        "      mejor_solucion = vecina\n",
        "      mejor_distancia = distancia_vecina\n",
        "        \n",
        "    solucion_referencia = vecina\n",
        "  print(\"Búsqueda local. La mejor solución es: \", mejor_distancia, mejor_solucion)"
      ],
      "execution_count": 0,
      "outputs": []
    },
    {
      "cell_type": "code",
      "metadata": {
        "id": "1Mtfy71f0V6a",
        "colab_type": "code",
        "outputId": "5addeeaa-9da8-4407-ae0e-53f907521840",
        "colab": {
          "base_uri": "https://localhost:8080/",
          "height": 54
        }
      },
      "source": [
        "busqueda_local(problem,200)"
      ],
      "execution_count": 0,
      "outputs": [
        {
          "output_type": "stream",
          "text": [
            "Búsqueda local. La mejor solución es:  1883 [0, 37, 15, 16, 14, 19, 13, 5, 26, 18, 10, 29, 28, 2, 27, 3, 4, 6, 34, 33, 20, 31, 17, 7, 1, 38, 22, 39, 21, 24, 40, 9, 30, 32, 35, 36, 12, 11, 25, 41, 23, 8]\n"
          ],
          "name": "stdout"
        }
      ]
    },
    {
      "cell_type": "code",
      "metadata": {
        "id": "VTCuhUFA5gmL",
        "colab_type": "code",
        "colab": {}
      },
      "source": [
        "def genera_vecina_aleatorio(solucion):\n",
        "  #Generador de 1 solucion vecina 2-opt (intercambiar 2 nodos)\n",
        "  #Se puede mejorar haciendo que la elección no se uniforme sino entre las que estén más proximas\n",
        "  i = random.choice(range(1, len(solucion)) )\n",
        "  j = random.choice(list(set(range(1, len(solucion))) - {i}))\n",
        "  if j<i:\n",
        "    i,j=j,i\n",
        "  vecina = list(solucion[:i] + [solucion[j]] + solucion[i+1:j] + [solucion[i]] + solucion[j+1:])\n",
        "  return vecina"
      ],
      "execution_count": 0,
      "outputs": []
    },
    {
      "cell_type": "code",
      "metadata": {
        "id": "8f17BN4l5i72",
        "colab_type": "code",
        "outputId": "7707aa41-3323-4ccc-f9fb-07daa0bb559a",
        "colab": {
          "base_uri": "https://localhost:8080/",
          "height": 71
        }
      },
      "source": [
        "solucion = crear_solucion(Nodos)\n",
        "print(solucion, \"\\n\",genera_vecina_aleatorio(solucion))"
      ],
      "execution_count": 10,
      "outputs": [
        {
          "output_type": "stream",
          "text": [
            "[0, 16, 40, 23, 33, 39, 22, 7, 10, 4, 34, 14, 30, 21, 12, 37, 2, 38, 11, 5, 1, 41, 17, 25, 35, 29, 3, 19, 36, 27, 28, 32, 26, 6, 9, 15, 24, 13, 31, 8, 20, 18] \n",
            " [0, 16, 40, 23, 33, 39, 22, 7, 10, 4, 34, 14, 30, 21, 12, 37, 2, 38, 11, 5, 1, 41, 17, 25, 35, 29, 3, 19, 36, 27, 28, 32, 26, 6, 9, 15, 31, 13, 24, 8, 20, 18]\n"
          ],
          "name": "stdout"
        }
      ]
    },
    {
      "cell_type": "code",
      "metadata": {
        "id": "8mOgQ_L37kUT",
        "colab_type": "code",
        "colab": {}
      },
      "source": [
        "#Funcion de probabilidad para determinar si se cambia \n",
        "#    a una solución peor respecto a la de referencia(exponencial)\n",
        "def probabilidad(T,d):\n",
        "  if random.random() <= math.exp(-1*d / T)   :\n",
        "    return True\n",
        "  else:\n",
        "    return False\n",
        "\n",
        "def bajar_temperatura(T):\n",
        "  return T*.9999"
      ],
      "execution_count": 0,
      "outputs": []
    },
    {
      "cell_type": "markdown",
      "metadata": {
        "id": "_8WjhfQIucQI",
        "colab_type": "text"
      },
      "source": [
        "**Recocido simulado**"
      ]
    },
    {
      "cell_type": "code",
      "metadata": {
        "id": "7_vmdjCo701T",
        "colab_type": "code",
        "outputId": "a06507ec-2422-44c4-a4b8-eee807b0a757",
        "colab": {
          "base_uri": "https://localhost:8080/",
          "height": 54
        }
      },
      "source": [
        "#####################################################################\n",
        "def recocido_simulado(problem, TEMPERATURA=1000):\n",
        "  #problem = datos del problema\n",
        "\n",
        "  solucion_referencia = crear_solucion(Nodos)\n",
        "  distancia_referencia = distancia_total(solucion_referencia, problem)\n",
        "  \n",
        "  mejor_solucion = []\n",
        "  mejor_distancia = 10e100\n",
        "  while TEMPERATURA > 1:\n",
        "    #Genera una solución vecina(aleatoria)\n",
        "    vecina = genera_vecina_aleatorio(solucion_referencia) \n",
        "    \n",
        "    #Calcula su valor(distancia)\n",
        "    distancia_vecina = distancia_total(vecina, problem)\n",
        "    \n",
        "    #Si es la mejor solución de todas se guarda\n",
        "    if distancia_vecina < mejor_distancia:\n",
        "      mejor_solucion = vecina\n",
        "      mejor_distancia = distancia_vecina\n",
        "     # print('\\t****Encontrada mejor solucion:', mejor_distancia , mejor_solucion, '\\n')\n",
        "    \n",
        "    #Si la nueva vecina es mejor se cambia y si es peor se cambia según \n",
        "    # una probabilidad dependiente de T y de |distancia_referencia - distancia_vecina|\n",
        "    p = probabilidad(TEMPERATURA, abs(distancia_referencia - distancia_vecina) )\n",
        "    if distancia_vecina < distancia_referencia or p :\n",
        "      solucion_referencia = vecina\n",
        "      distancia_referencia = distancia_vecina\n",
        "    \n",
        "    TEMPERATURA = bajar_temperatura(TEMPERATURA)\n",
        "\n",
        "  print(\"Recocido simulado. La mejor solución encontrada es :\" , mejor_distancia, mejor_solucion  )\n",
        "  return mejor_solucion\n",
        "\n",
        "sol = recocido_simulado(problem, TEMPERATURA=100000)\n"
      ],
      "execution_count": 12,
      "outputs": [
        {
          "output_type": "stream",
          "text": [
            "Recocido simulado. La mejor solución encontrada es : 1510 [0, 32, 34, 20, 31, 37, 15, 16, 14, 19, 13, 12, 11, 25, 41, 23, 9, 8, 29, 30, 28, 27, 2, 3, 4, 6, 5, 26, 18, 10, 21, 40, 24, 39, 22, 38, 33, 35, 36, 17, 7, 1]\n"
          ],
          "name": "stdout"
        }
      ]
    },
    {
      "cell_type": "markdown",
      "metadata": {
        "id": "PRFnEprt-qXw",
        "colab_type": "text"
      },
      "source": [
        "**Colonia Hormigas**\n"
      ]
    },
    {
      "cell_type": "code",
      "metadata": {
        "colab_type": "code",
        "id": "TDYr5YkUyibh",
        "colab": {}
      },
      "source": [
        "#Funcion de probabilidad para determinar si se cambia \n",
        "#En función de parámetros alpha y beta\n",
        "#H: hormiga (nodos recorridos por la hormiga) \n",
        "#T: feromonas en cada nodo\n",
        "#alpha, beta \n",
        "#pkij(t) = [τij(t)]α[νij]β / ∑l∈Jki[τil(t)]α[νil]β, si j∈Jki (j pertenece al conjunto de Ciudades pendientes de visitar)\n",
        "def probabilidadNodoFeromonas(problem, H, T, i, j, alpha, beta, sumatorio):\n",
        "  \n",
        "  print(\"problem\",problem)\n",
        "  print(\"H:\", H)\n",
        "  print(\"T:\", T)\n",
        "  print(\"i:\"+str(i)+\" j:\"+str(j))\n",
        "  print(\"alpha:\"+str(alpha)+\" beta:\"+str(beta))\n",
        "  nodos_pendientes = set(problem.get_nodes()) - set(H)\n",
        "  print(\"nodos_pendientes\", nodos_pendientes)\n",
        "\n",
        "  \n",
        "#función que devuelve: ∑l∈Jki[τil(t)]α[νil]β\n",
        "def sumatorioFeromonasYVisibilidad(J,T,i, alpha, beta):\n",
        "  suma = 0\n",
        "  for l in J:\n",
        "    suma += (H[i,l]**alpha) * (1/T[i,l]**beta)\n",
        "  return suma\n"
      ],
      "execution_count": 0,
      "outputs": []
    },
    {
      "cell_type": "code",
      "metadata": {
        "id": "QfM0Cz8ZAxeu",
        "colab_type": "code",
        "colab": {}
      },
      "source": [
        "def Add_Nodo_random(problem, H ,T ) :\n",
        "  # Establecer una una funcion de probabilidad para \n",
        "  # añadir un nuevo nodo dependiendo de los nodos mas cercanos y de las feromonas depositadas\n",
        "  Nodos = list(problem.get_nodes())\n",
        "  return random.choice(   list(set(range(1,len(Nodos))) - set(H) )  )\n",
        "\n",
        "#todo\n",
        "def Add_Nodo_probabilidad(problem, H, T, alpha, beta ) :\n",
        "  #coje el último nodo. Se calcula la probabilidad de todos los nodos pendientes y coje el nodo con mayor probabilidad\n",
        "  ultimo_nodo = H[len(H)-1]\n",
        "  print(\"ultimo_nodo:\", ultimo_nodo)\n",
        "  sumatorio = sumatorioFeromonasYVisibilidad()\n",
        "  print(\"sumatorio\", str(sumatorio))\n",
        "\n",
        "  probabilidadNodoFeromonas(problem,H,T,0,0,alpha,beta,sumatorio)\n",
        "\n",
        "def Incrementa_Feromona(problem, T, H):\n",
        "  #Incrementar segun la calidad de la solución. Añadir una cantidad inversamente proporcional a la distancia total \n",
        "  for i in range(len(H)-1):\n",
        "    T[H[i]][H[i+1]] += 1000/distancia_total(H, problem)\n",
        "  return T\n",
        "\n",
        "def Evaporar_Feromonas(T):\n",
        "  #Podemos elegir diferentes funciones de evaporación dependiendo de la cantidad actual y de la suma total de feromonas depositadas,...\n",
        "  #Evapora 0.3 el valor de la feromona, sin que baje de 1\n",
        "  T = [[ max(T[i][j] - 0.3 , 1) for i in range(len(Nodos)) ] for j in range(len(Nodos))]\n",
        "  return T"
      ],
      "execution_count": 0,
      "outputs": []
    },
    {
      "cell_type": "code",
      "metadata": {
        "id": "nwTSNdLQ-tL0",
        "colab_type": "code",
        "colab": {}
      },
      "source": [
        "def hormigas(problem, N) :\n",
        "  #problem = datos del problema\n",
        "  #N = Número de agentes(hormigas)\n",
        "    \n",
        "  #Nodos\n",
        "  Nodos = list(problem.get_nodes())\n",
        "    #Aristas\n",
        "  Aristas = list(problem.get_edges()) \n",
        "  \n",
        "  #Inicializa las aristas con una cantidad inicial de feromonas:1\n",
        "  T = [[ 1 for _ in range(len(Nodos)) ] for _ in range(len(Nodos))]\n",
        "  \n",
        "  #Se generan los agentes(hormigas) que serán estructuras de caminos desde 0\n",
        "  Hormiga = [[0] for _ in range(N)]\n",
        "  #Recorre cada agente/hormiga construyendo la solución\n",
        "  for h in range(N) :\n",
        "    #print(\"\\nAgente:\", h)\n",
        "    #Para cada agente se construye un camino\n",
        "    for i in range(len(Nodos)-1) :\n",
        "      \n",
        "      #Elige el siguiente nodo\n",
        "      Nuevo_Nodo = Add_Nodo_random(problem, Hormiga[h] ,T )\n",
        "            \n",
        "      #todo: testingAdd_Nodo_probabilidad(problem, Hormiga[h] ,T )\n",
        "      \n",
        "      Hormiga[h].append(Nuevo_Nodo)     \n",
        "    \n",
        "    #Evapora Feromonas  \n",
        "    T = Evaporar_Feromonas(T)\n",
        "    #print(\"Feromonas(2)\", T)\n",
        "\n",
        "    #Incrementa feromonas en esa arista \n",
        "    T = Incrementa_Feromona(problem, T, Hormiga[h] )\n",
        "    #print(\"Feromonas(1)\", T)\n",
        "      \n",
        "\n",
        "    #Seleccionamos el mejor agente\n",
        "  mejor_solucion = []\n",
        "  mejor_distancia = 10e100\n",
        "  for h in range(N) :\n",
        "    distancia_actual = distancia_total(Hormiga[h], problem)\n",
        "    if distancia_actual < mejor_distancia:\n",
        "      mejor_solucion = Hormiga[h]\n",
        "      mejor_distancia =distancia_actual\n",
        "  \n",
        "  print(\"Colonia de hormigas, con: \",N, \" hormigas. La mejor solución encontrada es :\" , mejor_distancia, mejor_solucion  )\n"
      ],
      "execution_count": 0,
      "outputs": []
    },
    {
      "cell_type": "code",
      "metadata": {
        "id": "HPnGb5llA9st",
        "colab_type": "code",
        "outputId": "38dace39-22ff-4c30-fb9c-77ae61789516",
        "colab": {
          "base_uri": "https://localhost:8080/",
          "height": 54
        }
      },
      "source": [
        "hormigas(problem,1000)"
      ],
      "execution_count": 0,
      "outputs": [
        {
          "output_type": "stream",
          "text": [
            "Colonia de hormigas, con:  1000  hormigas. La mejor solución encontrada es : 3855 [0, 22, 33, 38, 40, 41, 2, 11, 18, 17, 14, 32, 6, 1, 5, 3, 39, 29, 30, 34, 24, 31, 35, 20, 36, 4, 12, 26, 19, 15, 25, 13, 10, 8, 7, 27, 21, 28, 9, 23, 37, 16]\n"
          ],
          "name": "stdout"
        }
      ]
    }
  ]
}