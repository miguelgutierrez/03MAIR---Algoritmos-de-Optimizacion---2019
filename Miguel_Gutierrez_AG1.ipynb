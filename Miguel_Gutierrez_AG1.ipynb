{
  "nbformat": 4,
  "nbformat_minor": 0,
  "metadata": {
    "colab": {
      "name": "Miguel Gutierrez - AG1.ipynb",
      "provenance": [],
      "include_colab_link": true
    },
    "kernelspec": {
      "name": "python3",
      "display_name": "Python 3"
    }
  },
  "cells": [
    {
      "cell_type": "markdown",
      "metadata": {
        "id": "view-in-github",
        "colab_type": "text"
      },
      "source": [
        "<a href=\"https://colab.research.google.com/github/miguelgutierrez/03MAIR---Algoritmos-de-Optimizacion---2019/blob/master/Miguel_Gutierrez_AG1.ipynb\" target=\"_parent\"><img src=\"https://colab.research.google.com/assets/colab-badge.svg\" alt=\"Open In Colab\"/></a>"
      ]
    },
    {
      "cell_type": "code",
      "metadata": {
        "id": "WUuav-zyonuz",
        "colab_type": "code",
        "colab": {}
      },
      "source": [
        ""
      ],
      "execution_count": 0,
      "outputs": []
    },
    {
      "cell_type": "markdown",
      "metadata": {
        "id": "iTnu6CBPo5c-",
        "colab_type": "text"
      },
      "source": [
        "AG1. Algoritmos de optimización\n",
        "Miguel Gutiérrez\n",
        "https://colab.research.google.com/drive/1NX36jYOusqPytLMc45smAWDASmwWxnSV"
      ]
    },
    {
      "cell_type": "code",
      "metadata": {
        "id": "aKQJpihBqJI9",
        "colab_type": "code",
        "colab": {}
      },
      "source": [
        "def torres(N,desde,hasta):\n",
        "  if N==1:\n",
        "    print(\"lleva la ficha desde \", desde, \" hasta \", hasta)\n",
        "  else:\n",
        "    torres(N-1,desde, 6-desde-hasta)\n",
        "    print(\"lleva la ficha desde \", desde, \" hasta \", hasta)\n",
        "    torres(N-1,6-desde-hasta, hasta)"
      ],
      "execution_count": 0,
      "outputs": []
    },
    {
      "cell_type": "code",
      "metadata": {
        "id": "J7DRstn8qZBA",
        "colab_type": "code",
        "colab": {
          "base_uri": "https://localhost:8080/",
          "height": 68
        },
        "outputId": "d62607dd-db73-45da-d23e-229a15492d68"
      },
      "source": [
        "torres(2,1,3)"
      ],
      "execution_count": 10,
      "outputs": [
        {
          "output_type": "stream",
          "text": [
            "lleva la ficha desde  1  hasta  2\n",
            "lleva la ficha desde  1  hasta  3\n",
            "lleva la ficha desde  2  hasta  3\n"
          ],
          "name": "stdout"
        }
      ]
    }
  ]
}