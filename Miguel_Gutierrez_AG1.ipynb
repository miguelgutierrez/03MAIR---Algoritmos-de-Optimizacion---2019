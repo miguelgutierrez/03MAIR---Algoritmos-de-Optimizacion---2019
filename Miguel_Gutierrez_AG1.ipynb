{
  "nbformat": 4,
  "nbformat_minor": 0,
  "metadata": {
    "colab": {
      "name": "Miguel Gutierrez - AG1.ipynb",
      "provenance": [],
      "include_colab_link": true
    },
    "kernelspec": {
      "name": "python3",
      "display_name": "Python 3"
    }
  },
  "cells": [
    {
      "cell_type": "markdown",
      "metadata": {
        "id": "view-in-github",
        "colab_type": "text"
      },
      "source": [
        "<a href=\"https://colab.research.google.com/github/miguelgutierrez/03MAIR---Algoritmos-de-Optimizacion---2019/blob/master/Miguel_Gutierrez_AG1.ipynb\" target=\"_parent\"><img src=\"https://colab.research.google.com/assets/colab-badge.svg\" alt=\"Open In Colab\"/></a>"
      ]
    },
    {
      "cell_type": "code",
      "metadata": {
        "id": "WUuav-zyonuz",
        "colab_type": "code",
        "colab": {}
      },
      "source": [
        ""
      ],
      "execution_count": 0,
      "outputs": []
    },
    {
      "cell_type": "markdown",
      "metadata": {
        "id": "iTnu6CBPo5c-",
        "colab_type": "text"
      },
      "source": [
        "AG1. Algoritmos de optimización\n",
        "Miguel Gutiérrez\n",
        "https://colab.research.google.com/drive/1NX36jYOusqPytLMc45smAWDASmwWxnSV"
      ]
    },
    {
      "cell_type": "code",
      "metadata": {
        "id": "aKQJpihBqJI9",
        "colab_type": "code",
        "colab": {}
      },
      "source": [
        "def torres(N,desde,hasta):\n",
        "  if N==1:\n",
        "    print(\"lleva la ficha desde \", desde, \" hasta \", hasta)\n",
        "  else:\n",
        "    torres(N-1,desde, 6-desde-hasta)\n",
        "    print(\"lleva la ficha desde \", desde, \" hasta \", hasta)\n",
        "    torres(N-1,6-desde-hasta, hasta)"
      ],
      "execution_count": 0,
      "outputs": []
    },
    {
      "cell_type": "code",
      "metadata": {
        "id": "J7DRstn8qZBA",
        "colab_type": "code",
        "outputId": "d62607dd-db73-45da-d23e-229a15492d68",
        "colab": {
          "base_uri": "https://localhost:8080/",
          "height": 68
        }
      },
      "source": [
        "torres(2,1,3)"
      ],
      "execution_count": 0,
      "outputs": [
        {
          "output_type": "stream",
          "text": [
            "lleva la ficha desde  1  hasta  2\n",
            "lleva la ficha desde  1  hasta  3\n",
            "lleva la ficha desde  2  hasta  3\n"
          ],
          "name": "stdout"
        }
      ]
    },
    {
      "cell_type": "markdown",
      "metadata": {
        "id": "uU1GzztL-BNi",
        "colab_type": "text"
      },
      "source": [
        ""
      ]
    },
    {
      "cell_type": "markdown",
      "metadata": {
        "id": "z76Y7jVB-J5I",
        "colab_type": "text"
      },
      "source": [
        "Cambio de monedas\n"
      ]
    },
    {
      "cell_type": "code",
      "metadata": {
        "id": "0EqRozNE-Oar",
        "colab_type": "code",
        "colab": {
          "base_uri": "https://localhost:8080/",
          "height": 85
        },
        "outputId": "4a1ea2f5-9588-4fbc-de85-8948f3518173"
      },
      "source": [
        "#se supone sistema_monetario está ordenado menor a mayor (0.1,0.2,0.5,1,2,10,20,50,100,200,500)\n",
        "import numpy as np\n",
        "\n",
        "def cambio_monedas(cantidad, sistema_monetario):\n",
        "  total_monedas = len(sistema_monetario)\n",
        "  solucion = np.zeros(total_monedas)\n",
        "  valor_acumulado = 0\n",
        "  for i in range(total_monedas-1,0,-1):\n",
        "    monedas = int( (cantidad-valor_acumulado)/sistema_monetario[i])\n",
        "    valor_acumulado = valor_acumulado + monedas * sistema_monetario[i]\n",
        "    solucion[i] = monedas\n",
        "    if valor_acumulado == cantidad:\n",
        "      return solucion\n",
        "  return []\n",
        "sistema_monetario = (0.1,0.2,0.5,1,2,5,10,20,50,100,200,500)\n",
        "\n",
        "solucion = cambio_monedas(1111,sistema_monetario)\n",
        "if len(solucion) == 0:\n",
        "  print(\"NO HAY SOLUCIÓN\")\n",
        "else:\n",
        "  for i in range(len(solucion)):\n",
        "    if solucion[i]>0:\n",
        "      cantidad = int(solucion[i])\n",
        "      texto_cantidad = \"\"\n",
        "      if cantidad == 1:\n",
        "        texto_cantidad = \" moneda de: \"\n",
        "      else:\n",
        "        texto_cantidad = \" monedas de: \"\n",
        "\n",
        "      print(cantidad, texto_cantidad, sistema_monetario[i])\n"
      ],
      "execution_count": 27,
      "outputs": [
        {
          "output_type": "stream",
          "text": [
            "1  moneda de:  1\n",
            "1  moneda de:  10\n",
            "1  moneda de:  100\n",
            "2  monedas de:  500\n"
          ],
          "name": "stdout"
        }
      ]
    }
  ]
}