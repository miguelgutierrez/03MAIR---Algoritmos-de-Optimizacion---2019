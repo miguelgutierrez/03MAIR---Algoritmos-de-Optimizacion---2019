{
  "nbformat": 4,
  "nbformat_minor": 0,
  "metadata": {
    "colab": {
      "name": "Miguel Gutierrez - AG1.ipynb",
      "provenance": [],
      "collapsed_sections": [],
      "include_colab_link": true
    },
    "kernelspec": {
      "name": "python3",
      "display_name": "Python 3"
    }
  },
  "cells": [
    {
      "cell_type": "markdown",
      "metadata": {
        "id": "view-in-github",
        "colab_type": "text"
      },
      "source": [
        "<a href=\"https://colab.research.google.com/github/miguelgutierrez/03MAIR---Algoritmos-de-Optimizacion---2019/blob/master/Miguel_Gutierrez_AG1.ipynb\" target=\"_parent\"><img src=\"https://colab.research.google.com/assets/colab-badge.svg\" alt=\"Open In Colab\"/></a>"
      ]
    },
    {
      "cell_type": "markdown",
      "metadata": {
        "id": "iTnu6CBPo5c-",
        "colab_type": "text"
      },
      "source": [
        "AG1. Algoritmos de optimización\n",
        "Miguel Gutiérrez\n",
        "https://colab.research.google.com/drive/1NX36jYOusqPytLMc45smAWDASmwWxnSV"
      ]
    },
    {
      "cell_type": "markdown",
      "metadata": {
        "id": "tDGrg6x5Epx9",
        "colab_type": "text"
      },
      "source": [
        "**Torres de Hanoy**\n"
      ]
    },
    {
      "cell_type": "code",
      "metadata": {
        "id": "aKQJpihBqJI9",
        "colab_type": "code",
        "colab": {}
      },
      "source": [
        "def torres(N,desde,hasta):\n",
        "  if N==1:\n",
        "    print(\"lleva la ficha desde \", desde, \" hasta \", hasta)\n",
        "  else:\n",
        "    torres(N-1,desde, 6-desde-hasta)\n",
        "    print(\"lleva la ficha desde \", desde, \" hasta \", hasta)\n",
        "    torres(N-1,6-desde-hasta, hasta)"
      ],
      "execution_count": 0,
      "outputs": []
    },
    {
      "cell_type": "code",
      "metadata": {
        "id": "J7DRstn8qZBA",
        "colab_type": "code",
        "outputId": "7ad00d72-645f-49ce-bdd4-b19eed2d8907",
        "colab": {
          "base_uri": "https://localhost:8080/",
          "height": 272
        }
      },
      "source": [
        "torres(4,1,3)"
      ],
      "execution_count": 3,
      "outputs": [
        {
          "output_type": "stream",
          "text": [
            "lleva la ficha desde  1  hasta  2\n",
            "lleva la ficha desde  1  hasta  3\n",
            "lleva la ficha desde  2  hasta  3\n",
            "lleva la ficha desde  1  hasta  2\n",
            "lleva la ficha desde  3  hasta  1\n",
            "lleva la ficha desde  3  hasta  2\n",
            "lleva la ficha desde  1  hasta  2\n",
            "lleva la ficha desde  1  hasta  3\n",
            "lleva la ficha desde  2  hasta  3\n",
            "lleva la ficha desde  2  hasta  1\n",
            "lleva la ficha desde  3  hasta  1\n",
            "lleva la ficha desde  2  hasta  3\n",
            "lleva la ficha desde  1  hasta  2\n",
            "lleva la ficha desde  1  hasta  3\n",
            "lleva la ficha desde  2  hasta  3\n"
          ],
          "name": "stdout"
        }
      ]
    },
    {
      "cell_type": "markdown",
      "metadata": {
        "id": "z76Y7jVB-J5I",
        "colab_type": "text"
      },
      "source": [
        "**Cambio de monedas**\n"
      ]
    },
    {
      "cell_type": "code",
      "metadata": {
        "id": "0EqRozNE-Oar",
        "colab_type": "code",
        "outputId": "d74d53f3-546e-45ac-e026-96cd7881f999",
        "colab": {
          "base_uri": "https://localhost:8080/",
          "height": 68
        }
      },
      "source": [
        "#se supone sistema_monetario está ordenado menor a mayor (0.1,0.2,0.5,1,2,10,20,50,100,200,500)\n",
        "import numpy as np\n",
        "\n",
        "def cambio_monedas(cantidad, sistema_monetario):\n",
        "  total_monedas = len(sistema_monetario)\n",
        "  solucion = np.zeros(total_monedas)\n",
        "  valor_acumulado = 0\n",
        "  for i in range(total_monedas-1,-1,-1):\n",
        "    monedas = int( round(cantidad - valor_acumulado,1)/sistema_monetario[i])\n",
        "    valor_acumulado = valor_acumulado + monedas * sistema_monetario[i]\n",
        "    solucion[i] = monedas\n",
        "    if valor_acumulado == cantidad:\n",
        "      return solucion\n",
        "  return []\n",
        "sistema_monetario = (0.1,0.2,0.5,1,2,5,10,20,50,100,200,500)\n",
        "\n",
        "solucion = cambio_monedas(11.1,sistema_monetario)\n",
        "if len(solucion) == 0:\n",
        "  print(\"NO HAY SOLUCIÓN\")\n",
        "else:\n",
        "  for i in range(len(solucion)):\n",
        "    if solucion[i]>0:\n",
        "      cantidad = int(solucion[i])\n",
        "      texto_cantidad = \"\"\n",
        "      if cantidad == 1:\n",
        "        texto_cantidad = \" moneda de: \"\n",
        "      else:\n",
        "        texto_cantidad = \" monedas de: \"\n",
        "\n",
        "      print(cantidad, texto_cantidad, sistema_monetario[i])\n"
      ],
      "execution_count": 0,
      "outputs": [
        {
          "output_type": "stream",
          "text": [
            "1  moneda de:  0.1\n",
            "1  moneda de:  1\n",
            "1  moneda de:  10\n"
          ],
          "name": "stdout"
        }
      ]
    },
    {
      "cell_type": "markdown",
      "metadata": {
        "id": "BrXnrPf8FFF-",
        "colab_type": "text"
      },
      "source": [
        "**N reinas**"
      ]
    },
    {
      "cell_type": "code",
      "metadata": {
        "id": "J5A-mhCdFHt4",
        "colab_type": "code",
        "outputId": "c7aa91e4-6974-46fd-b71b-fb56b33c1279",
        "colab": {
          "base_uri": "https://localhost:8080/",
          "height": 187
        }
      },
      "source": [
        "def escribe(solucion):\n",
        "  print(\"La solución es:\")\n",
        "  for i in range(len(solucion)):\n",
        "    print(\"Fila: \",solucion[i], \" Columna: \",i+1)\n",
        "    \n",
        "def es_prometedora(SOLUCION,etapa):\n",
        "  #si hay 2 valores iguales: no es válida, están en la misma fila\n",
        "  for i in range(etapa+1):\n",
        "    if SOLUCION.count(SOLUCION[i])>1:\n",
        "      return False\n",
        "    else:\n",
        "      #verifica diagonales\n",
        "      for j in range(i+1,etapa+1):\n",
        "        if abs(i-j) == abs(SOLUCION[i]-SOLUCION[j]):\n",
        "          return False\n",
        "  return True\n",
        "\n",
        "def reinas(N,solucion, etapa):\n",
        "  for i in range(1,N+1):\n",
        "    solucion[etapa] = i\n",
        "    if es_prometedora(solucion, etapa):\n",
        "      if etapa == N-1:\n",
        "        escribe(solucion)\n",
        "      else:\n",
        "        #es prometedora\n",
        "        reinas(N,solucion,etapa+1)\n",
        "    else:\n",
        "      #No es prometedora\n",
        "      None\n",
        "    solucion[etapa] = 0\n",
        "\n",
        "solucion = [0,0,0,0]\n",
        "reinas(4,solucion,0)"
      ],
      "execution_count": 5,
      "outputs": [
        {
          "output_type": "stream",
          "text": [
            "La solución es:\n",
            "Fila:  2  Columna:  1\n",
            "Fila:  4  Columna:  2\n",
            "Fila:  1  Columna:  3\n",
            "Fila:  3  Columna:  4\n",
            "La solución es:\n",
            "Fila:  3  Columna:  1\n",
            "Fila:  1  Columna:  2\n",
            "Fila:  4  Columna:  3\n",
            "Fila:  2  Columna:  4\n"
          ],
          "name": "stdout"
        }
      ]
    },
    {
      "cell_type": "markdown",
      "metadata": {
        "id": "YQJu8rIufdsA",
        "colab_type": "text"
      },
      "source": [
        "**Fibonacci**\n",
        "\n",
        "- Recursivo e iterativo\n",
        "\n"
      ]
    },
    {
      "cell_type": "code",
      "metadata": {
        "id": "8-cQQD7xfkxe",
        "colab_type": "code",
        "outputId": "b1c5c2f6-87e6-405f-c62e-36818e0cb426",
        "colab": {
          "base_uri": "https://localhost:8080/",
          "height": 34
        }
      },
      "source": [
        "def fibonacci_recursivo(Fn):\n",
        "    if Fn == 1 or Fn == 2:\n",
        "        return 1\n",
        "\n",
        "    return fibonacci_recursivo(Fn-1) + fibonacci_recursivo(Fn-2)\n",
        "\n",
        "print(fibonacci_recursivo(10)) \n",
        "#print(fibonacci_recursivo(100)) tarda muchísimo"
      ],
      "execution_count": 6,
      "outputs": [
        {
          "output_type": "stream",
          "text": [
            "55\n"
          ],
          "name": "stdout"
        }
      ]
    },
    {
      "cell_type": "code",
      "metadata": {
        "id": "PkDQw13sfgKd",
        "colab_type": "code",
        "outputId": "231f0164-0b0b-48da-f80a-a89815b13eb1",
        "colab": {
          "base_uri": "https://localhost:8080/",
          "height": 71
        }
      },
      "source": [
        "def fibonacci_iterativo(Fn):\n",
        "    if Fn == 1 or Fn == 2:\n",
        "        return 1\n",
        "\n",
        "    fibonacci = 1\n",
        "    fibonacci_anterior = 1\n",
        "    \n",
        "    for i in range(2,Fn):\n",
        "        valor = fibonacci\n",
        "        fibonacci = fibonacci + fibonacci_anterior\n",
        "        fibonacci_anterior = valor\n",
        "    return fibonacci\n",
        "print(fibonacci_iterativo(10))\n",
        "print(fibonacci_iterativo(1000))"
      ],
      "execution_count": 7,
      "outputs": [
        {
          "output_type": "stream",
          "text": [
            "55\n",
            "43466557686937456435688527675040625802564660517371780402481729089536555417949051890403879840079255169295922593080322634775209689623239873322471161642996440906533187938298969649928516003704476137795166849228875\n"
          ],
          "name": "stdout"
        }
      ]
    },
    {
      "cell_type": "markdown",
      "metadata": {
        "id": "KPVf9J57g29m",
        "colab_type": "text"
      },
      "source": [
        "**Encontrar los dos puntos más cercanos**"
      ]
    },
    {
      "cell_type": "code",
      "metadata": {
        "id": "o0MvKm42g6w2",
        "colab_type": "code",
        "colab": {}
      },
      "source": [
        "import numpy as np\n",
        "import random\n",
        "\n",
        "LISTA_1D = [random.randrange(1,10000) for x in range(1000)]\n",
        "LISTA_2D = [(random.randrange(1,10000),random.randrange(1,10000)) for x in range(1000)]\n"
      ],
      "execution_count": 0,
      "outputs": []
    },
    {
      "cell_type": "code",
      "metadata": {
        "id": "6zLTxP9jg4TI",
        "colab_type": "code",
        "outputId": "0e2d5039-bb6c-46e3-996c-1522485e7f66",
        "colab": {
          "base_uri": "https://localhost:8080/",
          "height": 51
        }
      },
      "source": [
        "def distancia(val1, val2):\n",
        "  return abs(val1-val2)\n",
        "\n",
        "def mas_cercanos_fbruta(lista):\n",
        "  distancia_minima = np.inf\n",
        "  \n",
        "  for i in range(len(lista)):\n",
        "    for j in range(i+1, len(lista)):\n",
        "      dist = distancia(lista[i],lista[j])\n",
        "      if dist < distancia_minima:\n",
        "        distancia_minima = dist\n",
        "        puntos_mas_cercanos = (i,j)\n",
        "  return puntos_mas_cercanos\n",
        "\n",
        "#LISTA_1D = (50,3,100,100)\n",
        "LISTA_1D = [random.randrange(1,10000) for x in range(10)]\n",
        "\n",
        "print(LISTA_1D)\n",
        "print(mas_cercanos_fbruta(LISTA_1D))"
      ],
      "execution_count": 9,
      "outputs": [
        {
          "output_type": "stream",
          "text": [
            "[5256, 4152, 907, 5408, 1888, 7273, 1124, 3670, 9606, 954]\n",
            "(2, 9)\n"
          ],
          "name": "stdout"
        }
      ]
    }
  ]
}