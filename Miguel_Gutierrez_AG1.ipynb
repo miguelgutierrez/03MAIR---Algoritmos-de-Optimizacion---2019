{
  "nbformat": 4,
  "nbformat_minor": 0,
  "metadata": {
    "colab": {
      "name": "Miguel Gutierrez - AG1.ipynb",
      "provenance": [],
      "collapsed_sections": [],
      "include_colab_link": true
    },
    "kernelspec": {
      "name": "python3",
      "display_name": "Python 3"
    }
  },
  "cells": [
    {
      "cell_type": "markdown",
      "metadata": {
        "id": "view-in-github",
        "colab_type": "text"
      },
      "source": [
        "<a href=\"https://colab.research.google.com/github/miguelgutierrez/03MAIR---Algoritmos-de-Optimizacion---2019/blob/master/Miguel_Gutierrez_AG1.ipynb\" target=\"_parent\"><img src=\"https://colab.research.google.com/assets/colab-badge.svg\" alt=\"Open In Colab\"/></a>"
      ]
    },
    {
      "cell_type": "markdown",
      "metadata": {
        "id": "iTnu6CBPo5c-",
        "colab_type": "text"
      },
      "source": [
        "AG1. Algoritmos de optimización\n",
        "Miguel Gutiérrez\n",
        "https://colab.research.google.com/drive/1NX36jYOusqPytLMc45smAWDASmwWxnSV"
      ]
    },
    {
      "cell_type": "markdown",
      "metadata": {
        "id": "tDGrg6x5Epx9",
        "colab_type": "text"
      },
      "source": [
        "**Torres de Hanoy**\n"
      ]
    },
    {
      "cell_type": "code",
      "metadata": {
        "id": "aKQJpihBqJI9",
        "colab_type": "code",
        "colab": {}
      },
      "source": [
        "def torres(N,desde,hasta):\n",
        "  if N==1:\n",
        "    print(\"lleva la ficha desde \", desde, \" hasta \", hasta)\n",
        "  else:\n",
        "    torres(N-1,desde, 6-desde-hasta)\n",
        "    print(\"lleva la ficha desde \", desde, \" hasta \", hasta)\n",
        "    torres(N-1,6-desde-hasta, hasta)"
      ],
      "execution_count": 0,
      "outputs": []
    },
    {
      "cell_type": "code",
      "metadata": {
        "id": "J7DRstn8qZBA",
        "colab_type": "code",
        "outputId": "d62607dd-db73-45da-d23e-229a15492d68",
        "colab": {
          "base_uri": "https://localhost:8080/",
          "height": 68
        }
      },
      "source": [
        "torres(2,1,3)"
      ],
      "execution_count": 0,
      "outputs": [
        {
          "output_type": "stream",
          "text": [
            "lleva la ficha desde  1  hasta  2\n",
            "lleva la ficha desde  1  hasta  3\n",
            "lleva la ficha desde  2  hasta  3\n"
          ],
          "name": "stdout"
        }
      ]
    },
    {
      "cell_type": "markdown",
      "metadata": {
        "id": "uU1GzztL-BNi",
        "colab_type": "text"
      },
      "source": [
        ""
      ]
    },
    {
      "cell_type": "markdown",
      "metadata": {
        "id": "z76Y7jVB-J5I",
        "colab_type": "text"
      },
      "source": [
        "**Cambio de monedas**\n"
      ]
    },
    {
      "cell_type": "markdown",
      "metadata": {
        "id": "Dem3PqNZFBns",
        "colab_type": "text"
      },
      "source": [
        ""
      ]
    },
    {
      "cell_type": "code",
      "metadata": {
        "id": "0EqRozNE-Oar",
        "colab_type": "code",
        "outputId": "d74d53f3-546e-45ac-e026-96cd7881f999",
        "colab": {
          "base_uri": "https://localhost:8080/",
          "height": 68
        }
      },
      "source": [
        "#se supone sistema_monetario está ordenado menor a mayor (0.1,0.2,0.5,1,2,10,20,50,100,200,500)\n",
        "import numpy as np\n",
        "\n",
        "def cambio_monedas(cantidad, sistema_monetario):\n",
        "  total_monedas = len(sistema_monetario)\n",
        "  solucion = np.zeros(total_monedas)\n",
        "  valor_acumulado = 0\n",
        "  for i in range(total_monedas-1,-1,-1):\n",
        "    monedas = int( round(cantidad - valor_acumulado,1)/sistema_monetario[i])\n",
        "    valor_acumulado = valor_acumulado + monedas * sistema_monetario[i]\n",
        "    solucion[i] = monedas\n",
        "    if valor_acumulado == cantidad:\n",
        "      return solucion\n",
        "  return []\n",
        "sistema_monetario = (0.1,0.2,0.5,1,2,5,10,20,50,100,200,500)\n",
        "\n",
        "solucion = cambio_monedas(11.1,sistema_monetario)\n",
        "if len(solucion) == 0:\n",
        "  print(\"NO HAY SOLUCIÓN\")\n",
        "else:\n",
        "  for i in range(len(solucion)):\n",
        "    if solucion[i]>0:\n",
        "      cantidad = int(solucion[i])\n",
        "      texto_cantidad = \"\"\n",
        "      if cantidad == 1:\n",
        "        texto_cantidad = \" moneda de: \"\n",
        "      else:\n",
        "        texto_cantidad = \" monedas de: \"\n",
        "\n",
        "      print(cantidad, texto_cantidad, sistema_monetario[i])\n"
      ],
      "execution_count": 0,
      "outputs": [
        {
          "output_type": "stream",
          "text": [
            "1  moneda de:  0.1\n",
            "1  moneda de:  1\n",
            "1  moneda de:  10\n"
          ],
          "name": "stdout"
        }
      ]
    },
    {
      "cell_type": "markdown",
      "metadata": {
        "id": "BrXnrPf8FFF-",
        "colab_type": "text"
      },
      "source": [
        "4 reinas"
      ]
    },
    {
      "cell_type": "code",
      "metadata": {
        "id": "J5A-mhCdFHt4",
        "colab_type": "code",
        "colab": {
          "base_uri": "https://localhost:8080/",
          "height": 187
        },
        "outputId": "ce0413ee-eaa2-4b70-9a6d-1d498188feb4"
      },
      "source": [
        "def escribe(solucion):\n",
        "  print(\"La solución es:\")\n",
        "  for i in range(len(solucion)):\n",
        "    print(\"Fila: \",solucion[i], \" Columna: \",i+1)\n",
        "def es_prometedora(SOLUCION,etapa):\n",
        "  #si hay 2 valores iguales: no es válida, están en la misma fila\n",
        "  for i in range(etapa+1):\n",
        "    if SOLUCION.count(SOLUCION[i])>1:\n",
        "      return False\n",
        "    else:\n",
        "      #verifica diagonales\n",
        "      for j in range(i+1,etapa+1):\n",
        "        if abs(i-j) == abs(SOLUCION[i]-SOLUCION[j]):\n",
        "          return False\n",
        "  return True\n",
        "\n",
        "def reinas(N,solucion, etapa):\n",
        "  for i in range(1,N+1):\n",
        "    solucion[etapa] = i\n",
        "    if es_prometedora(solucion, etapa):\n",
        "      if etapa == N-1:\n",
        "        escribe(solucion)\n",
        "      else:\n",
        "        #es prometedora\n",
        "        reinas(N,solucion,etapa+1)\n",
        "    else:\n",
        "      #No es prometedora\n",
        "      None\n",
        "    solucion[etapa] = 0\n",
        "\n",
        "solucion = [0,0,0,0]\n",
        "reinas(4,solucion,0)"
      ],
      "execution_count": 39,
      "outputs": [
        {
          "output_type": "stream",
          "text": [
            "La solución es:\n",
            "Fila:  2  Columna:  1\n",
            "Fila:  4  Columna:  2\n",
            "Fila:  1  Columna:  3\n",
            "Fila:  3  Columna:  4\n",
            "La solución es:\n",
            "Fila:  3  Columna:  1\n",
            "Fila:  1  Columna:  2\n",
            "Fila:  4  Columna:  3\n",
            "Fila:  2  Columna:  4\n"
          ],
          "name": "stdout"
        }
      ]
    },
    {
      "cell_type": "code",
      "metadata": {
        "id": "cdJdn0hePCWQ",
        "colab_type": "code",
        "colab": {}
      },
      "source": [
        ""
      ],
      "execution_count": 0,
      "outputs": []
    }
  ]
}